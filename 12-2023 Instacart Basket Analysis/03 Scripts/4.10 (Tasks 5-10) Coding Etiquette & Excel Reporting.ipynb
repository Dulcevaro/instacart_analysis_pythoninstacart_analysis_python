{
 "cells": [
  {
   "cell_type": "markdown",
   "id": "83f17238",
   "metadata": {},
   "source": [
    "# Table on Content\n",
    "    1. Importing Libraries & data and Cleaning Columns\n",
    "    2. Grouping\n",
    "      2.1. Marital Status\n",
    "      2.2. Age\n",
    "      2.3. Income      \n",
    "      2.4. Dependance\n",
    "    3. Customer Profiles\n",
    "      3.1. Profiles Creation\n",
    "      3.2. Distribution of profiles\n",
    "      3.3. Profiles and Marital Status\n",
    "      3.4. Profiles and Age\n",
    "      3.5. Profiles and Income\n",
    "      3.6. Profiles and Dependants          \n",
    "    4. Analysis of Customer Profiles: \n",
    "      4.1. Usage frequency\n",
    "      4.2. Expenditure\n",
    "      4.3. Regions\n",
    "      4.4. Departments\n",
    "    5. Exporting dataframe"
   ]
  },
  {
   "cell_type": "markdown",
   "id": "3a3b0805",
   "metadata": {},
   "source": [
    "# 1. Importing Libraries & data"
   ]
  },
  {
   "cell_type": "code",
   "execution_count": 1,
   "id": "e679b1f9",
   "metadata": {},
   "outputs": [],
   "source": [
    "# Import libraries\n",
    "import pandas as pd\n",
    "import numpy as np\n",
    "import os\n",
    "import matplotlib.pyplot as plt\n",
    "import seaborn as sns\n",
    "import scipy"
   ]
  },
  {
   "cell_type": "code",
   "execution_count": 2,
   "id": "50ff4b16",
   "metadata": {},
   "outputs": [],
   "source": [
    "# Create path\n",
    "path = r'/Users/Dulce/12-2023 Instacart Basket Analysis'"
   ]
  },
  {
   "cell_type": "code",
   "execution_count": 3,
   "id": "69b13035",
   "metadata": {},
   "outputs": [],
   "source": [
    "# Import final_df\n",
    "instacart = pd.read_pickle(os.path.join(path, '02 Data', 'Prepared Data', 'Final_DF.pkl'))"
   ]
  },
  {
   "cell_type": "code",
   "execution_count": 4,
   "id": "6fcd118d",
   "metadata": {},
   "outputs": [],
   "source": [
    "# Create a color palette with 10 distinct colors\n",
    "colors = ['#FFB6C1', '#FFA7B9', '#FF98B2', '#FF89AA', '#FF7AA2', '#FF6B9A', '#FF5C93', '#FF4D8B', '#FF3E83', '#FF2F7B']"
   ]
  },
  {
   "cell_type": "code",
   "execution_count": 5,
   "id": "30d71307",
   "metadata": {},
   "outputs": [
    {
     "data": {
      "text/html": [
       "<div>\n",
       "<style scoped>\n",
       "    .dataframe tbody tr th:only-of-type {\n",
       "        vertical-align: middle;\n",
       "    }\n",
       "\n",
       "    .dataframe tbody tr th {\n",
       "        vertical-align: top;\n",
       "    }\n",
       "\n",
       "    .dataframe thead th {\n",
       "        text-align: right;\n",
       "    }\n",
       "</style>\n",
       "<table border=\"1\" class=\"dataframe\">\n",
       "  <thead>\n",
       "    <tr style=\"text-align: right;\">\n",
       "      <th></th>\n",
       "      <th>product_id</th>\n",
       "      <th>product_name</th>\n",
       "      <th>department_id</th>\n",
       "      <th>prices</th>\n",
       "      <th>order_id</th>\n",
       "      <th>user_id</th>\n",
       "      <th>eval_set</th>\n",
       "      <th>quantity</th>\n",
       "      <th>orders_day_of_week</th>\n",
       "      <th>order_hour_of_day</th>\n",
       "      <th>...</th>\n",
       "      <th>frequency_flag</th>\n",
       "      <th>State</th>\n",
       "      <th>Age</th>\n",
       "      <th>Children</th>\n",
       "      <th>Marital_Status</th>\n",
       "      <th>income</th>\n",
       "      <th>region</th>\n",
       "      <th>activity_flag</th>\n",
       "      <th>department</th>\n",
       "      <th>_merge</th>\n",
       "    </tr>\n",
       "  </thead>\n",
       "  <tbody>\n",
       "    <tr>\n",
       "      <th>0</th>\n",
       "      <td>1</td>\n",
       "      <td>Chocolate Sandwich Cookies</td>\n",
       "      <td>19</td>\n",
       "      <td>5.8</td>\n",
       "      <td>3139998</td>\n",
       "      <td>138</td>\n",
       "      <td>prior</td>\n",
       "      <td>28</td>\n",
       "      <td>6</td>\n",
       "      <td>11</td>\n",
       "      <td>...</td>\n",
       "      <td>Frequent customer</td>\n",
       "      <td>Minnesota</td>\n",
       "      <td>81</td>\n",
       "      <td>1</td>\n",
       "      <td>married</td>\n",
       "      <td>49620</td>\n",
       "      <td>Midwest</td>\n",
       "      <td>Non-Low Activity</td>\n",
       "      <td>snacks</td>\n",
       "      <td>both</td>\n",
       "    </tr>\n",
       "    <tr>\n",
       "      <th>1</th>\n",
       "      <td>1</td>\n",
       "      <td>Chocolate Sandwich Cookies</td>\n",
       "      <td>19</td>\n",
       "      <td>5.8</td>\n",
       "      <td>1977647</td>\n",
       "      <td>138</td>\n",
       "      <td>prior</td>\n",
       "      <td>30</td>\n",
       "      <td>6</td>\n",
       "      <td>17</td>\n",
       "      <td>...</td>\n",
       "      <td>Frequent customer</td>\n",
       "      <td>Minnesota</td>\n",
       "      <td>81</td>\n",
       "      <td>1</td>\n",
       "      <td>married</td>\n",
       "      <td>49620</td>\n",
       "      <td>Midwest</td>\n",
       "      <td>Non-Low Activity</td>\n",
       "      <td>snacks</td>\n",
       "      <td>both</td>\n",
       "    </tr>\n",
       "    <tr>\n",
       "      <th>2</th>\n",
       "      <td>4913</td>\n",
       "      <td>Table Water Crackers</td>\n",
       "      <td>19</td>\n",
       "      <td>4.4</td>\n",
       "      <td>894221</td>\n",
       "      <td>138</td>\n",
       "      <td>prior</td>\n",
       "      <td>23</td>\n",
       "      <td>5</td>\n",
       "      <td>13</td>\n",
       "      <td>...</td>\n",
       "      <td>Frequent customer</td>\n",
       "      <td>Minnesota</td>\n",
       "      <td>81</td>\n",
       "      <td>1</td>\n",
       "      <td>married</td>\n",
       "      <td>49620</td>\n",
       "      <td>Midwest</td>\n",
       "      <td>Non-Low Activity</td>\n",
       "      <td>snacks</td>\n",
       "      <td>both</td>\n",
       "    </tr>\n",
       "    <tr>\n",
       "      <th>3</th>\n",
       "      <td>11759</td>\n",
       "      <td>Organic Simply Naked Pita Chips</td>\n",
       "      <td>19</td>\n",
       "      <td>4.4</td>\n",
       "      <td>1986630</td>\n",
       "      <td>138</td>\n",
       "      <td>prior</td>\n",
       "      <td>7</td>\n",
       "      <td>0</td>\n",
       "      <td>12</td>\n",
       "      <td>...</td>\n",
       "      <td>Frequent customer</td>\n",
       "      <td>Minnesota</td>\n",
       "      <td>81</td>\n",
       "      <td>1</td>\n",
       "      <td>married</td>\n",
       "      <td>49620</td>\n",
       "      <td>Midwest</td>\n",
       "      <td>Non-Low Activity</td>\n",
       "      <td>snacks</td>\n",
       "      <td>both</td>\n",
       "    </tr>\n",
       "    <tr>\n",
       "      <th>4</th>\n",
       "      <td>13424</td>\n",
       "      <td>Almonds</td>\n",
       "      <td>19</td>\n",
       "      <td>4.2</td>\n",
       "      <td>3139998</td>\n",
       "      <td>138</td>\n",
       "      <td>prior</td>\n",
       "      <td>28</td>\n",
       "      <td>6</td>\n",
       "      <td>11</td>\n",
       "      <td>...</td>\n",
       "      <td>Frequent customer</td>\n",
       "      <td>Minnesota</td>\n",
       "      <td>81</td>\n",
       "      <td>1</td>\n",
       "      <td>married</td>\n",
       "      <td>49620</td>\n",
       "      <td>Midwest</td>\n",
       "      <td>Non-Low Activity</td>\n",
       "      <td>snacks</td>\n",
       "      <td>both</td>\n",
       "    </tr>\n",
       "  </tbody>\n",
       "</table>\n",
       "<p>5 rows × 32 columns</p>\n",
       "</div>"
      ],
      "text/plain": [
       "   product_id                     product_name department_id  prices  \\\n",
       "0           1       Chocolate Sandwich Cookies            19     5.8   \n",
       "1           1       Chocolate Sandwich Cookies            19     5.8   \n",
       "2        4913             Table Water Crackers            19     4.4   \n",
       "3       11759  Organic Simply Naked Pita Chips            19     4.4   \n",
       "4       13424                          Almonds            19     4.2   \n",
       "\n",
       "   order_id user_id eval_set  quantity  orders_day_of_week  order_hour_of_day  \\\n",
       "0   3139998     138    prior        28                   6                 11   \n",
       "1   1977647     138    prior        30                   6                 17   \n",
       "2    894221     138    prior        23                   5                 13   \n",
       "3   1986630     138    prior         7                   0                 12   \n",
       "4   3139998     138    prior        28                   6                 11   \n",
       "\n",
       "   ...     frequency_flag      State  Age Children Marital_Status income  \\\n",
       "0  ...  Frequent customer  Minnesota   81        1        married  49620   \n",
       "1  ...  Frequent customer  Minnesota   81        1        married  49620   \n",
       "2  ...  Frequent customer  Minnesota   81        1        married  49620   \n",
       "3  ...  Frequent customer  Minnesota   81        1        married  49620   \n",
       "4  ...  Frequent customer  Minnesota   81        1        married  49620   \n",
       "\n",
       "    region     activity_flag department  _merge  \n",
       "0  Midwest  Non-Low Activity     snacks    both  \n",
       "1  Midwest  Non-Low Activity     snacks    both  \n",
       "2  Midwest  Non-Low Activity     snacks    both  \n",
       "3  Midwest  Non-Low Activity     snacks    both  \n",
       "4  Midwest  Non-Low Activity     snacks    both  \n",
       "\n",
       "[5 rows x 32 columns]"
      ]
     },
     "execution_count": 5,
     "metadata": {},
     "output_type": "execute_result"
    }
   ],
   "source": [
    "instacart.head()"
   ]
  },
  {
   "cell_type": "code",
   "execution_count": 6,
   "id": "25921e12",
   "metadata": {},
   "outputs": [
    {
     "data": {
      "text/plain": [
       "(32404859, 32)"
      ]
     },
     "execution_count": 6,
     "metadata": {},
     "output_type": "execute_result"
    }
   ],
   "source": [
    "instacart.shape"
   ]
  },
  {
   "cell_type": "code",
   "execution_count": 7,
   "id": "fb173ff0",
   "metadata": {},
   "outputs": [
    {
     "data": {
      "text/plain": [
       "Index(['product_id', 'product_name', 'department_id', 'prices', 'order_id',\n",
       "       'user_id', 'eval_set', 'quantity', 'orders_day_of_week',\n",
       "       'order_hour_of_day', 'days_since_prior_order', 'add_to_cart_order',\n",
       "       'reordered', 'price_range_loc', 'Busy_day', 'Busy_days',\n",
       "       'busiest_period_of_day', 'max_order', 'loyalty_flag', 'avg_payment',\n",
       "       'spender_type_flag', 'median_days_since_prior_order', 'frequency_flag',\n",
       "       'State', 'Age', 'Children', 'Marital_Status', 'income', 'region',\n",
       "       'activity_flag', 'department', '_merge'],\n",
       "      dtype='object')"
      ]
     },
     "execution_count": 7,
     "metadata": {},
     "output_type": "execute_result"
    }
   ],
   "source": [
    "instacart.columns"
   ]
  },
  {
   "cell_type": "markdown",
   "id": "ce7057ed",
   "metadata": {},
   "source": [
    "# 2. Grouping"
   ]
  },
  {
   "cell_type": "markdown",
   "id": "ec9c5dab",
   "metadata": {},
   "source": [
    "## 2.1. Marital Status"
   ]
  },
  {
   "cell_type": "code",
   "execution_count": 8,
   "id": "85b05968",
   "metadata": {},
   "outputs": [],
   "source": [
    "# Group for \"Married\" = married\n",
    "instacart.loc[(instacart['Marital_Status'] == 'married'), 'Status'] = 'Married'"
   ]
  },
  {
   "cell_type": "code",
   "execution_count": 9,
   "id": "3f4a2bfd",
   "metadata": {},
   "outputs": [],
   "source": [
    "# Group for \"Non-Married\" = single AND divorced/widowed AND living with parents and siblings\n",
    "instacart.loc[\n",
    "    (instacart['Marital_Status'] == 'single') |\n",
    "    (instacart['Marital_Status'] == 'divorced/widowed') |\n",
    "    (instacart['Marital_Status'] == 'living with parents and siblings'),\n",
    "    'Status'\n",
    "] = 'Non-married'"
   ]
  },
  {
   "cell_type": "code",
   "execution_count": 10,
   "id": "db80ec5e",
   "metadata": {
    "scrolled": true
   },
   "outputs": [],
   "source": [
    "Status_counts = instacart['Status'].value_counts(dropna = False)"
   ]
  },
  {
   "cell_type": "code",
   "execution_count": 11,
   "id": "375169f2",
   "metadata": {},
   "outputs": [
    {
     "data": {
      "text/plain": [
       "Status\n",
       "Married        70.0%\n",
       "Non-married    30.0%\n",
       "Name: count, dtype: object"
      ]
     },
     "execution_count": 11,
     "metadata": {},
     "output_type": "execute_result"
    }
   ],
   "source": [
    "# Calculate percentages\n",
    "Status_percentages = (Status_counts / len(instacart) * 100).round(0).astype(str) + '%'\n",
    "Status_percentages"
   ]
  },
  {
   "cell_type": "code",
   "execution_count": 12,
   "id": "2ce0582e",
   "metadata": {},
   "outputs": [
    {
     "data": {
      "text/html": [
       "<div>\n",
       "<style scoped>\n",
       "    .dataframe tbody tr th:only-of-type {\n",
       "        vertical-align: middle;\n",
       "    }\n",
       "\n",
       "    .dataframe tbody tr th {\n",
       "        vertical-align: top;\n",
       "    }\n",
       "\n",
       "    .dataframe thead th {\n",
       "        text-align: right;\n",
       "    }\n",
       "</style>\n",
       "<table border=\"1\" class=\"dataframe\">\n",
       "  <thead>\n",
       "    <tr style=\"text-align: right;\">\n",
       "      <th>Marital_Status</th>\n",
       "      <th>divorced/widowed</th>\n",
       "      <th>living with parents and siblings</th>\n",
       "      <th>married</th>\n",
       "      <th>single</th>\n",
       "    </tr>\n",
       "    <tr>\n",
       "      <th>Status</th>\n",
       "      <th></th>\n",
       "      <th></th>\n",
       "      <th></th>\n",
       "      <th></th>\n",
       "    </tr>\n",
       "  </thead>\n",
       "  <tbody>\n",
       "    <tr>\n",
       "      <th>Married</th>\n",
       "      <td>0.0%</td>\n",
       "      <td>0.0%</td>\n",
       "      <td>100.0%</td>\n",
       "      <td>0.0%</td>\n",
       "    </tr>\n",
       "    <tr>\n",
       "      <th>Non-married</th>\n",
       "      <td>29.0%</td>\n",
       "      <td>16.0%</td>\n",
       "      <td>0.0%</td>\n",
       "      <td>55.0%</td>\n",
       "    </tr>\n",
       "  </tbody>\n",
       "</table>\n",
       "</div>"
      ],
      "text/plain": [
       "Marital_Status divorced/widowed living with parents and siblings married  \\\n",
       "Status                                                                     \n",
       "Married                    0.0%                             0.0%  100.0%   \n",
       "Non-married               29.0%                            16.0%    0.0%   \n",
       "\n",
       "Marital_Status single  \n",
       "Status                 \n",
       "Married          0.0%  \n",
       "Non-married     55.0%  "
      ]
     },
     "execution_count": 12,
     "metadata": {},
     "output_type": "execute_result"
    }
   ],
   "source": [
    "# Create crosstab for Marital Status\n",
    "crosstab_status = pd.crosstab(instacart['Status'], instacart['Marital_Status'], dropna=False, normalize='index')\n",
    "\n",
    "# Multiply the normalized values by 100 to get percentages\n",
    "crosstab_status_percent = (crosstab_status * 100).round(0).astype(str) + '%'\n",
    "crosstab_status_percent"
   ]
  },
  {
   "cell_type": "markdown",
   "id": "ff9d1a49",
   "metadata": {},
   "source": [
    "## 2.2. Age"
   ]
  },
  {
   "cell_type": "code",
   "execution_count": 13,
   "id": "bec56fc7",
   "metadata": {},
   "outputs": [],
   "source": [
    "# Group for Young Adults: <=29 Years-old\n",
    "instacart.loc[(instacart['Age'] <= 29), 'Age_Group'] = 'Young'"
   ]
  },
  {
   "cell_type": "code",
   "execution_count": 14,
   "id": "4c436113",
   "metadata": {},
   "outputs": [],
   "source": [
    "# Group for Adults: 30-59 Years-old\n",
    "instacart.loc[(instacart['Age'] >= 30) & (instacart['Age'] <= 59), 'Age_Group'] = 'Adult'"
   ]
  },
  {
   "cell_type": "code",
   "execution_count": 15,
   "id": "22e6e5da",
   "metadata": {},
   "outputs": [],
   "source": [
    "# Group for Senior: >= 60 Years-old\n",
    "instacart.loc[(instacart['Age'] >= 60), 'Age_Group'] = 'Senior'"
   ]
  },
  {
   "cell_type": "code",
   "execution_count": 16,
   "id": "f557856b",
   "metadata": {},
   "outputs": [],
   "source": [
    "Age_group_counts = instacart['Age_Group'].value_counts(dropna = False)"
   ]
  },
  {
   "cell_type": "code",
   "execution_count": 17,
   "id": "b28fedc8",
   "metadata": {},
   "outputs": [
    {
     "data": {
      "text/plain": [
       "Age_Group\n",
       "Adult     47.0%\n",
       "Senior    34.0%\n",
       "Young     19.0%\n",
       "Name: count, dtype: object"
      ]
     },
     "execution_count": 17,
     "metadata": {},
     "output_type": "execute_result"
    }
   ],
   "source": [
    "# Calculate percentages\n",
    "Age_group_percentages = (Age_group_counts / len(instacart) * 100).round(0).astype(str) + '%'\n",
    "Age_group_percentages"
   ]
  },
  {
   "cell_type": "markdown",
   "id": "58d4160d",
   "metadata": {},
   "source": [
    "## 2.3 Income"
   ]
  },
  {
   "cell_type": "code",
   "execution_count": 18,
   "id": "bc6206bb",
   "metadata": {},
   "outputs": [],
   "source": [
    "# Group for Low Income: < 50.000\n",
    "instacart.loc[(instacart['income'] < 50000), 'Income_Group'] = 'Low Income'"
   ]
  },
  {
   "cell_type": "code",
   "execution_count": 19,
   "id": "49a2f64c",
   "metadata": {},
   "outputs": [],
   "source": [
    "# Group for Mid Income: >= 50.000 AND < 10000\n",
    "instacart.loc[(instacart['income'] >= 50000) & (instacart['income'] < 100000), 'Income_Group'] = 'Mid Income'"
   ]
  },
  {
   "cell_type": "code",
   "execution_count": 20,
   "id": "e66ae52d",
   "metadata": {},
   "outputs": [],
   "source": [
    "# Group for High Income: >= 100000\n",
    "instacart.loc[(instacart['income'] >= 100000), 'Income_Group'] = 'High Income'"
   ]
  },
  {
   "cell_type": "code",
   "execution_count": 21,
   "id": "682a581a",
   "metadata": {
    "scrolled": true
   },
   "outputs": [],
   "source": [
    "Income_group_counts = instacart['Income_Group'].value_counts(dropna = False)"
   ]
  },
  {
   "cell_type": "code",
   "execution_count": 22,
   "id": "94c360b0",
   "metadata": {},
   "outputs": [
    {
     "data": {
      "text/plain": [
       "Income_Group\n",
       "High Income    46.0%\n",
       "Mid Income     43.0%\n",
       "Low Income     11.0%\n",
       "Name: count, dtype: object"
      ]
     },
     "execution_count": 22,
     "metadata": {},
     "output_type": "execute_result"
    }
   ],
   "source": [
    "# Calculate percentages\n",
    "Income_group_percentages = (Income_group_counts / len(instacart) * 100).round(0).astype(str) + '%'\n",
    "Income_group_percentages"
   ]
  },
  {
   "cell_type": "markdown",
   "id": "a95e782b",
   "metadata": {},
   "source": [
    "## 2.4 Dependance"
   ]
  },
  {
   "cell_type": "code",
   "execution_count": 23,
   "id": "3dc82e00",
   "metadata": {},
   "outputs": [],
   "source": [
    "# Group for no-dependants: = 0\n",
    "instacart.loc[(instacart['Children'] == 0), 'Dependance'] = 'No-Dependants'"
   ]
  },
  {
   "cell_type": "code",
   "execution_count": 24,
   "id": "d7d0ed70",
   "metadata": {},
   "outputs": [],
   "source": [
    "# Group for dependants: >= 1\n",
    "instacart.loc[(instacart['Children'] >= 1), 'Dependance'] = 'Dependants'"
   ]
  },
  {
   "cell_type": "code",
   "execution_count": 25,
   "id": "6cf60808",
   "metadata": {},
   "outputs": [],
   "source": [
    "dependance_counts = instacart['Dependance'].value_counts(dropna = False)"
   ]
  },
  {
   "cell_type": "code",
   "execution_count": 26,
   "id": "30f55b46",
   "metadata": {},
   "outputs": [
    {
     "data": {
      "text/plain": [
       "Dependance\n",
       "Dependants       75.0%\n",
       "No-Dependants    25.0%\n",
       "Name: count, dtype: object"
      ]
     },
     "execution_count": 26,
     "metadata": {},
     "output_type": "execute_result"
    }
   ],
   "source": [
    "# Calculate percentages\n",
    "Dependance_percentages = (dependance_counts / len(instacart) * 100).round(0).astype(str) + '%'\n",
    "Dependance_percentages"
   ]
  },
  {
   "cell_type": "markdown",
   "id": "79fc6db2",
   "metadata": {},
   "source": [
    "# 3. Customer Profiles"
   ]
  },
  {
   "cell_type": "markdown",
   "id": "dc603f04",
   "metadata": {},
   "source": [
    "## 3.1. Profiles Creation"
   ]
  },
  {
   "cell_type": "code",
   "execution_count": 27,
   "id": "da96ce0f",
   "metadata": {},
   "outputs": [],
   "source": [
    "# Non-married, Young, High Income\n",
    "instacart.loc[\n",
    "    (instacart['Status'] =='Non-married') & \n",
    "    (instacart['Age_Group'] == 'Young') & \n",
    "    (instacart['Income_Group'] == 'High Income')\n",
    "    ,'Customer_Profile'] = 'Non-married, Young, High Income'"
   ]
  },
  {
   "cell_type": "code",
   "execution_count": 28,
   "id": "4aa4a210",
   "metadata": {},
   "outputs": [],
   "source": [
    "# Non-married, Young and Mid Income\n",
    "instacart.loc[\n",
    "    (instacart['Status'] =='Non-married') & \n",
    "    (instacart['Age_Group'] == 'Young') & \n",
    "    (instacart['Income_Group'] == 'Mid Income')\n",
    "    ,'Customer_Profile'] = 'Non-married, Young, Mid Income'"
   ]
  },
  {
   "cell_type": "code",
   "execution_count": 29,
   "id": "dd80c0b3",
   "metadata": {},
   "outputs": [],
   "source": [
    "# Non-married, Young and Low Income\n",
    "instacart.loc[\n",
    "    (instacart['Status'] =='Non-married') & \n",
    "    (instacart['Age_Group'] == 'Young') & \n",
    "    (instacart['Income_Group'] == 'Low Income')\n",
    "    ,'Customer_Profile'] = 'Non-married, Young, Low Income'"
   ]
  },
  {
   "cell_type": "code",
   "execution_count": 30,
   "id": "0fd79e54",
   "metadata": {},
   "outputs": [],
   "source": [
    "# Non-married, Adult and Low Income\n",
    "instacart.loc[\n",
    "    (instacart['Status'] =='Non-married') & \n",
    "    (instacart['Age_Group'] == 'Adult') & \n",
    "    (instacart['Income_Group'] == 'Low Income')\n",
    "    ,'Customer_Profile'] = 'Non-married, Adult, Low Income'"
   ]
  },
  {
   "cell_type": "code",
   "execution_count": 31,
   "id": "5aa9ab96",
   "metadata": {},
   "outputs": [],
   "source": [
    "# Non-married, Adult and Mid Income\n",
    "instacart.loc[\n",
    "    (instacart['Status'] =='Non-married') & \n",
    "    (instacart['Age_Group'] == 'Adult') & \n",
    "    (instacart['Income_Group'] == 'Mid Income')\n",
    "    ,'Customer_Profile'] = 'Non-married, Adult, Mid Income'"
   ]
  },
  {
   "cell_type": "code",
   "execution_count": 32,
   "id": "090d31cb",
   "metadata": {},
   "outputs": [],
   "source": [
    "# Non-married, Adult and High Income\n",
    "instacart.loc[\n",
    "    (instacart['Status'] =='Non-married') & \n",
    "    (instacart['Age_Group'] == 'Adult') & \n",
    "    (instacart['Income_Group'] == 'High Income')\n",
    "    ,'Customer_Profile'] = 'Non-married, Adult, High Income'"
   ]
  },
  {
   "cell_type": "code",
   "execution_count": 33,
   "id": "9c8a18fc",
   "metadata": {},
   "outputs": [],
   "source": [
    "# Non-married, Senior and High Income\n",
    "instacart.loc[\n",
    "    (instacart['Status'] =='Non-married') & \n",
    "    (instacart['Age_Group'] == 'Senior') & \n",
    "    (instacart['Income_Group'] == 'High Income')\n",
    "    ,'Customer_Profile'] = 'Non-married, Senior, High Income'"
   ]
  },
  {
   "cell_type": "code",
   "execution_count": 34,
   "id": "74f2c723",
   "metadata": {},
   "outputs": [],
   "source": [
    "# Non-married, Senior and Mid Income\n",
    "instacart.loc[\n",
    "    (instacart['Status'] =='Non-married') & \n",
    "    (instacart['Age_Group'] == 'Senior') & \n",
    "    (instacart['Income_Group'] == 'Mid Income')\n",
    "    ,'Customer_Profile'] = 'Non-married, Senior, Mid Income'"
   ]
  },
  {
   "cell_type": "code",
   "execution_count": 35,
   "id": "32808ac9",
   "metadata": {},
   "outputs": [],
   "source": [
    "# Non-married, Senior and Low Income\n",
    "instacart.loc[\n",
    "    (instacart['Status'] =='Non-married') & \n",
    "    (instacart['Age_Group'] == 'Senior') & \n",
    "    (instacart['Income_Group'] == 'Low Income')\n",
    "    ,'Customer_Profile'] = 'Non-married, Senior, Low Income'"
   ]
  },
  {
   "cell_type": "code",
   "execution_count": 36,
   "id": "cc24d471",
   "metadata": {},
   "outputs": [],
   "source": [
    "# Married, Young and High Income\n",
    "instacart.loc[\n",
    "    (instacart['Status'] =='Married') & \n",
    "    (instacart['Age_Group'] == 'Young') & \n",
    "    (instacart['Income_Group'] == 'High Income')\n",
    "    ,'Customer_Profile'] = 'Married, Young, High Income'"
   ]
  },
  {
   "cell_type": "code",
   "execution_count": 37,
   "id": "b3d54419",
   "metadata": {},
   "outputs": [],
   "source": [
    "# Married, Young and Mid Income\n",
    "instacart.loc[\n",
    "    (instacart['Status'] =='Married') & \n",
    "    (instacart['Age_Group'] == 'Young') & \n",
    "    (instacart['Income_Group'] == 'Mid Income')\n",
    "    ,'Customer_Profile'] = 'Married, Young, Mid Income'"
   ]
  },
  {
   "cell_type": "code",
   "execution_count": 38,
   "id": "b100091d",
   "metadata": {},
   "outputs": [],
   "source": [
    "# Married, Young and Low Income\n",
    "instacart.loc[\n",
    "    (instacart['Status'] =='Married') & \n",
    "    (instacart['Age_Group'] == 'Young') & \n",
    "    (instacart['Income_Group'] == 'Low Income')\n",
    "    ,'Customer_Profile'] = 'Married, Young, Low Income'"
   ]
  },
  {
   "cell_type": "code",
   "execution_count": 39,
   "id": "2dc38daa",
   "metadata": {},
   "outputs": [],
   "source": [
    "# Married, Adult and Low Income\n",
    "instacart.loc[\n",
    "    (instacart['Status'] =='Married') & \n",
    "    (instacart['Age_Group'] == 'Adult') & \n",
    "    (instacart['Income_Group'] == 'Low Income')\n",
    "    ,'Customer_Profile'] = 'Married, Adult, Low Income'"
   ]
  },
  {
   "cell_type": "code",
   "execution_count": 40,
   "id": "af0a5132",
   "metadata": {},
   "outputs": [],
   "source": [
    "# Married, Adult and Mid Income\n",
    "instacart.loc[\n",
    "    (instacart['Status'] =='Married') & \n",
    "    (instacart['Age_Group'] == 'Adult') & \n",
    "    (instacart['Income_Group'] == 'Mid Income')\n",
    "    ,'Customer_Profile'] = 'Married, Adult, Mid Income'"
   ]
  },
  {
   "cell_type": "code",
   "execution_count": 41,
   "id": "f93eb16d",
   "metadata": {},
   "outputs": [],
   "source": [
    "# Married, Adult and High Income\n",
    "instacart.loc[\n",
    "    (instacart['Status'] =='Married') & \n",
    "    (instacart['Age_Group'] == 'Adult') & \n",
    "    (instacart['Income_Group'] == 'High Income')\n",
    "    ,'Customer_Profile'] = 'Married, Adult, High Income'"
   ]
  },
  {
   "cell_type": "code",
   "execution_count": 42,
   "id": "0e46d63d",
   "metadata": {},
   "outputs": [],
   "source": [
    "# Married, Senior and High Income\n",
    "instacart.loc[\n",
    "    (instacart['Status'] =='Married') & \n",
    "    (instacart['Age_Group'] == 'Senior') & \n",
    "    (instacart['Income_Group'] == 'High Income')\n",
    "    ,'Customer_Profile'] = 'Married, Senior, High Income'"
   ]
  },
  {
   "cell_type": "code",
   "execution_count": 43,
   "id": "c6e5afc3",
   "metadata": {},
   "outputs": [],
   "source": [
    "# Married, Senior and Mid Income\n",
    "instacart.loc[\n",
    "    (instacart['Status'] =='Married') & \n",
    "    (instacart['Age_Group'] == 'Senior') & \n",
    "    (instacart['Income_Group'] == 'Mid Income')\n",
    "    ,'Customer_Profile'] = 'Married, Senior, Mid Income'"
   ]
  },
  {
   "cell_type": "code",
   "execution_count": 44,
   "id": "f992b5ae",
   "metadata": {},
   "outputs": [],
   "source": [
    "# Married, Senior and Low Income\n",
    "instacart.loc[\n",
    "    (instacart['Status'] =='Married') & \n",
    "    (instacart['Age_Group'] == 'Senior') & \n",
    "    (instacart['Income_Group'] == 'Low Income')\n",
    "    ,'Customer_Profile'] = 'Married, Senior, Low Income'"
   ]
  },
  {
   "cell_type": "markdown",
   "id": "b66b954d",
   "metadata": {},
   "source": [
    "## 3.2. Distribution of profiles"
   ]
  },
  {
   "cell_type": "code",
   "execution_count": 45,
   "id": "bc12bf53",
   "metadata": {},
   "outputs": [],
   "source": [
    "cust_prof_counts = instacart['Customer_Profile'].value_counts(dropna = False)"
   ]
  },
  {
   "cell_type": "code",
   "execution_count": 46,
   "id": "1fea0d94",
   "metadata": {},
   "outputs": [
    {
     "data": {
      "text/plain": [
       "Customer_Profile\n",
       "Married, Senior, High Income        18.0%\n",
       "Married, Adult, High Income         16.0%\n",
       "Married, Adult, Mid Income          15.0%\n",
       "Non-married, Young, Mid Income       8.0%\n",
       "Married, Young, Mid Income           8.0%\n",
       "Non-married, Senior, High Income     6.0%\n",
       "Married, Senior, Mid Income          6.0%\n",
       "Non-married, Adult, High Income      5.0%\n",
       "Non-married, Adult, Mid Income       5.0%\n",
       "Married, Adult, Low Income           4.0%\n",
       "Married, Senior, Low Income          2.0%\n",
       "Non-married, Senior, Mid Income      2.0%\n",
       "Non-married, Young, Low Income       2.0%\n",
       "Married, Young, Low Income           1.0%\n",
       "Non-married, Adult, Low Income       1.0%\n",
       "Non-married, Senior, Low Income      1.0%\n",
       "Non-married, Young, High Income      0.0%\n",
       "Married, Young, High Income          0.0%\n",
       "Name: count, dtype: object"
      ]
     },
     "execution_count": 46,
     "metadata": {},
     "output_type": "execute_result"
    }
   ],
   "source": [
    "# Calculate percentages\n",
    "Cust_prof_percentages = (cust_prof_counts / len(instacart) * 100).round(0).astype(str) + '%'\n",
    "Cust_prof_percentages"
   ]
  },
  {
   "cell_type": "code",
   "execution_count": 47,
   "id": "154e620b",
   "metadata": {},
   "outputs": [
    {
     "data": {
      "text/plain": [
       "Text(0, 0.5, 'Customer Profiles')"
      ]
     },
     "execution_count": 47,
     "metadata": {},
     "output_type": "execute_result"
    },
    {
     "data": {
      "image/png": "[encoded data removed]",
      "text/plain": [
       "<Figure size 640x480 with 1 Axes>"
      ]
     },
     "metadata": {},
     "output_type": "display_data"
    }
   ],
   "source": [
    "# Create Bar Chart for Distribution of Customer Profiles\n",
    "bar_distrib_prof = instacart['Customer_Profile'].value_counts().sort_values(ascending=True).plot.barh(\n",
    "    title='Customer Profiles Distribution',\n",
    "    color= '#FFB6C1')\n",
    "# Add title to axis Y\n",
    "plt.ylabel('Customer Profiles')"
   ]
  },
  {
   "cell_type": "code",
   "execution_count": 48,
   "id": "1a10748a",
   "metadata": {},
   "outputs": [],
   "source": [
    "# Export Bar Chart\n",
    "bar_distrib_prof.figure.savefig(os.path.join(path, '04 Analysis','Visualizations', 'bar_distrib_prof.png'))"
   ]
  },
  {
   "cell_type": "markdown",
   "id": "d9ff68e0",
   "metadata": {},
   "source": [
    "## 3.3. Profiles and Marital Status"
   ]
  },
  {
   "cell_type": "code",
   "execution_count": 49,
   "id": "0ebe8d8c",
   "metadata": {
    "scrolled": false
   },
   "outputs": [
    {
     "data": {
      "text/html": [
       "<div>\n",
       "<style scoped>\n",
       "    .dataframe tbody tr th:only-of-type {\n",
       "        vertical-align: middle;\n",
       "    }\n",
       "\n",
       "    .dataframe tbody tr th {\n",
       "        vertical-align: top;\n",
       "    }\n",
       "\n",
       "    .dataframe thead th {\n",
       "        text-align: right;\n",
       "    }\n",
       "</style>\n",
       "<table border=\"1\" class=\"dataframe\">\n",
       "  <thead>\n",
       "    <tr style=\"text-align: right;\">\n",
       "      <th>Customer_Profile</th>\n",
       "      <th>Married, Adult, High Income</th>\n",
       "      <th>Married, Adult, Low Income</th>\n",
       "      <th>Married, Adult, Mid Income</th>\n",
       "      <th>Married, Senior, High Income</th>\n",
       "      <th>Married, Senior, Low Income</th>\n",
       "      <th>Married, Senior, Mid Income</th>\n",
       "      <th>Married, Young, High Income</th>\n",
       "      <th>Married, Young, Low Income</th>\n",
       "      <th>Married, Young, Mid Income</th>\n",
       "      <th>Non-married, Adult, High Income</th>\n",
       "      <th>Non-married, Adult, Low Income</th>\n",
       "      <th>Non-married, Adult, Mid Income</th>\n",
       "      <th>Non-married, Senior, High Income</th>\n",
       "      <th>Non-married, Senior, Low Income</th>\n",
       "      <th>Non-married, Senior, Mid Income</th>\n",
       "      <th>Non-married, Young, High Income</th>\n",
       "      <th>Non-married, Young, Low Income</th>\n",
       "      <th>Non-married, Young, Mid Income</th>\n",
       "    </tr>\n",
       "    <tr>\n",
       "      <th>Marital_Status</th>\n",
       "      <th></th>\n",
       "      <th></th>\n",
       "      <th></th>\n",
       "      <th></th>\n",
       "      <th></th>\n",
       "      <th></th>\n",
       "      <th></th>\n",
       "      <th></th>\n",
       "      <th></th>\n",
       "      <th></th>\n",
       "      <th></th>\n",
       "      <th></th>\n",
       "      <th></th>\n",
       "      <th></th>\n",
       "      <th></th>\n",
       "      <th></th>\n",
       "      <th></th>\n",
       "      <th></th>\n",
       "    </tr>\n",
       "  </thead>\n",
       "  <tbody>\n",
       "    <tr>\n",
       "      <th>divorced/widowed</th>\n",
       "      <td>0.0%</td>\n",
       "      <td>0.0%</td>\n",
       "      <td>0.0%</td>\n",
       "      <td>0.0%</td>\n",
       "      <td>0.0%</td>\n",
       "      <td>0.0%</td>\n",
       "      <td>0.0%</td>\n",
       "      <td>0.0%</td>\n",
       "      <td>0.0%</td>\n",
       "      <td>0.0%</td>\n",
       "      <td>0.0%</td>\n",
       "      <td>0.0%</td>\n",
       "      <td>70.0%</td>\n",
       "      <td>8.0%</td>\n",
       "      <td>22.0%</td>\n",
       "      <td>0.0%</td>\n",
       "      <td>0.0%</td>\n",
       "      <td>0.0%</td>\n",
       "    </tr>\n",
       "    <tr>\n",
       "      <th>living with parents and siblings</th>\n",
       "      <td>0.0%</td>\n",
       "      <td>0.0%</td>\n",
       "      <td>0.0%</td>\n",
       "      <td>0.0%</td>\n",
       "      <td>0.0%</td>\n",
       "      <td>0.0%</td>\n",
       "      <td>0.0%</td>\n",
       "      <td>0.0%</td>\n",
       "      <td>0.0%</td>\n",
       "      <td>0.0%</td>\n",
       "      <td>0.0%</td>\n",
       "      <td>0.0%</td>\n",
       "      <td>0.0%</td>\n",
       "      <td>0.0%</td>\n",
       "      <td>0.0%</td>\n",
       "      <td>3.0%</td>\n",
       "      <td>15.0%</td>\n",
       "      <td>82.0%</td>\n",
       "    </tr>\n",
       "    <tr>\n",
       "      <th>married</th>\n",
       "      <td>23.0%</td>\n",
       "      <td>6.0%</td>\n",
       "      <td>22.0%</td>\n",
       "      <td>25.0%</td>\n",
       "      <td>3.0%</td>\n",
       "      <td>8.0%</td>\n",
       "      <td>0.0%</td>\n",
       "      <td>2.0%</td>\n",
       "      <td>11.0%</td>\n",
       "      <td>0.0%</td>\n",
       "      <td>0.0%</td>\n",
       "      <td>0.0%</td>\n",
       "      <td>0.0%</td>\n",
       "      <td>0.0%</td>\n",
       "      <td>0.0%</td>\n",
       "      <td>0.0%</td>\n",
       "      <td>0.0%</td>\n",
       "      <td>0.0%</td>\n",
       "    </tr>\n",
       "    <tr>\n",
       "      <th>single</th>\n",
       "      <td>0.0%</td>\n",
       "      <td>0.0%</td>\n",
       "      <td>0.0%</td>\n",
       "      <td>0.0%</td>\n",
       "      <td>0.0%</td>\n",
       "      <td>0.0%</td>\n",
       "      <td>0.0%</td>\n",
       "      <td>0.0%</td>\n",
       "      <td>0.0%</td>\n",
       "      <td>33.0%</td>\n",
       "      <td>8.0%</td>\n",
       "      <td>31.0%</td>\n",
       "      <td>0.0%</td>\n",
       "      <td>0.0%</td>\n",
       "      <td>0.0%</td>\n",
       "      <td>1.0%</td>\n",
       "      <td>5.0%</td>\n",
       "      <td>23.0%</td>\n",
       "    </tr>\n",
       "  </tbody>\n",
       "</table>\n",
       "</div>"
      ],
      "text/plain": [
       "Customer_Profile                 Married, Adult, High Income  \\\n",
       "Marital_Status                                                 \n",
       "divorced/widowed                                        0.0%   \n",
       "living with parents and siblings                        0.0%   \n",
       "married                                                23.0%   \n",
       "single                                                  0.0%   \n",
       "\n",
       "Customer_Profile                 Married, Adult, Low Income  \\\n",
       "Marital_Status                                                \n",
       "divorced/widowed                                       0.0%   \n",
       "living with parents and siblings                       0.0%   \n",
       "married                                                6.0%   \n",
       "single                                                 0.0%   \n",
       "\n",
       "Customer_Profile                 Married, Adult, Mid Income  \\\n",
       "Marital_Status                                                \n",
       "divorced/widowed                                       0.0%   \n",
       "living with parents and siblings                       0.0%   \n",
       "married                                               22.0%   \n",
       "single                                                 0.0%   \n",
       "\n",
       "Customer_Profile                 Married, Senior, High Income  \\\n",
       "Marital_Status                                                  \n",
       "divorced/widowed                                         0.0%   \n",
       "living with parents and siblings                         0.0%   \n",
       "married                                                 25.0%   \n",
       "single                                                   0.0%   \n",
       "\n",
       "Customer_Profile                 Married, Senior, Low Income  \\\n",
       "Marital_Status                                                 \n",
       "divorced/widowed                                        0.0%   \n",
       "living with parents and siblings                        0.0%   \n",
       "married                                                 3.0%   \n",
       "single                                                  0.0%   \n",
       "\n",
       "Customer_Profile                 Married, Senior, Mid Income  \\\n",
       "Marital_Status                                                 \n",
       "divorced/widowed                                        0.0%   \n",
       "living with parents and siblings                        0.0%   \n",
       "married                                                 8.0%   \n",
       "single                                                  0.0%   \n",
       "\n",
       "Customer_Profile                 Married, Young, High Income  \\\n",
       "Marital_Status                                                 \n",
       "divorced/widowed                                        0.0%   \n",
       "living with parents and siblings                        0.0%   \n",
       "married                                                 0.0%   \n",
       "single                                                  0.0%   \n",
       "\n",
       "Customer_Profile                 Married, Young, Low Income  \\\n",
       "Marital_Status                                                \n",
       "divorced/widowed                                       0.0%   \n",
       "living with parents and siblings                       0.0%   \n",
       "married                                                2.0%   \n",
       "single                                                 0.0%   \n",
       "\n",
       "Customer_Profile                 Married, Young, Mid Income  \\\n",
       "Marital_Status                                                \n",
       "divorced/widowed                                       0.0%   \n",
       "living with parents and siblings                       0.0%   \n",
       "married                                               11.0%   \n",
       "single                                                 0.0%   \n",
       "\n",
       "Customer_Profile                 Non-married, Adult, High Income  \\\n",
       "Marital_Status                                                     \n",
       "divorced/widowed                                            0.0%   \n",
       "living with parents and siblings                            0.0%   \n",
       "married                                                     0.0%   \n",
       "single                                                     33.0%   \n",
       "\n",
       "Customer_Profile                 Non-married, Adult, Low Income  \\\n",
       "Marital_Status                                                    \n",
       "divorced/widowed                                           0.0%   \n",
       "living with parents and siblings                           0.0%   \n",
       "married                                                    0.0%   \n",
       "single                                                     8.0%   \n",
       "\n",
       "Customer_Profile                 Non-married, Adult, Mid Income  \\\n",
       "Marital_Status                                                    \n",
       "divorced/widowed                                           0.0%   \n",
       "living with parents and siblings                           0.0%   \n",
       "married                                                    0.0%   \n",
       "single                                                    31.0%   \n",
       "\n",
       "Customer_Profile                 Non-married, Senior, High Income  \\\n",
       "Marital_Status                                                      \n",
       "divorced/widowed                                            70.0%   \n",
       "living with parents and siblings                             0.0%   \n",
       "married                                                      0.0%   \n",
       "single                                                       0.0%   \n",
       "\n",
       "Customer_Profile                 Non-married, Senior, Low Income  \\\n",
       "Marital_Status                                                     \n",
       "divorced/widowed                                            8.0%   \n",
       "living with parents and siblings                            0.0%   \n",
       "married                                                     0.0%   \n",
       "single                                                      0.0%   \n",
       "\n",
       "Customer_Profile                 Non-married, Senior, Mid Income  \\\n",
       "Marital_Status                                                     \n",
       "divorced/widowed                                           22.0%   \n",
       "living with parents and siblings                            0.0%   \n",
       "married                                                     0.0%   \n",
       "single                                                      0.0%   \n",
       "\n",
       "Customer_Profile                 Non-married, Young, High Income  \\\n",
       "Marital_Status                                                     \n",
       "divorced/widowed                                            0.0%   \n",
       "living with parents and siblings                            3.0%   \n",
       "married                                                     0.0%   \n",
       "single                                                      1.0%   \n",
       "\n",
       "Customer_Profile                 Non-married, Young, Low Income  \\\n",
       "Marital_Status                                                    \n",
       "divorced/widowed                                           0.0%   \n",
       "living with parents and siblings                          15.0%   \n",
       "married                                                    0.0%   \n",
       "single                                                     5.0%   \n",
       "\n",
       "Customer_Profile                 Non-married, Young, Mid Income  \n",
       "Marital_Status                                                   \n",
       "divorced/widowed                                           0.0%  \n",
       "living with parents and siblings                          82.0%  \n",
       "married                                                    0.0%  \n",
       "single                                                    23.0%  "
      ]
     },
     "execution_count": 49,
     "metadata": {},
     "output_type": "execute_result"
    }
   ],
   "source": [
    "# Create crosstab for Marital Status\n",
    "crosstab_status = pd.crosstab(instacart['Marital_Status'], instacart['Customer_Profile'], dropna=False, normalize='index')\n",
    "\n",
    "# Multiply the normalized values by 100 to get percentages\n",
    "crosstab_status_percent = (crosstab_status * 100).round(0).astype(str) + '%'\n",
    "crosstab_status_percent"
   ]
  },
  {
   "cell_type": "code",
   "execution_count": 50,
   "id": "420ee394",
   "metadata": {},
   "outputs": [],
   "source": [
    "# Copy to clipboard before pasting in Excel\n",
    "crosstab_status_percent.to_clipboard()"
   ]
  },
  {
   "cell_type": "markdown",
   "id": "79cffc85",
   "metadata": {},
   "source": [
    "## 3.4. Profiles and Age"
   ]
  },
  {
   "cell_type": "code",
   "execution_count": 51,
   "id": "4c5e49bd",
   "metadata": {
    "scrolled": false
   },
   "outputs": [
    {
     "data": {
      "text/html": [
       "<div>\n",
       "<style scoped>\n",
       "    .dataframe tbody tr th:only-of-type {\n",
       "        vertical-align: middle;\n",
       "    }\n",
       "\n",
       "    .dataframe tbody tr th {\n",
       "        vertical-align: top;\n",
       "    }\n",
       "\n",
       "    .dataframe thead th {\n",
       "        text-align: right;\n",
       "    }\n",
       "</style>\n",
       "<table border=\"1\" class=\"dataframe\">\n",
       "  <thead>\n",
       "    <tr style=\"text-align: right;\">\n",
       "      <th>Customer_Profile</th>\n",
       "      <th>Married, Adult, High Income</th>\n",
       "      <th>Married, Adult, Low Income</th>\n",
       "      <th>Married, Adult, Mid Income</th>\n",
       "      <th>Married, Senior, High Income</th>\n",
       "      <th>Married, Senior, Low Income</th>\n",
       "      <th>Married, Senior, Mid Income</th>\n",
       "      <th>Married, Young, High Income</th>\n",
       "      <th>Married, Young, Low Income</th>\n",
       "      <th>Married, Young, Mid Income</th>\n",
       "      <th>Non-married, Adult, High Income</th>\n",
       "      <th>Non-married, Adult, Low Income</th>\n",
       "      <th>Non-married, Adult, Mid Income</th>\n",
       "      <th>Non-married, Senior, High Income</th>\n",
       "      <th>Non-married, Senior, Low Income</th>\n",
       "      <th>Non-married, Senior, Mid Income</th>\n",
       "      <th>Non-married, Young, High Income</th>\n",
       "      <th>Non-married, Young, Low Income</th>\n",
       "      <th>Non-married, Young, Mid Income</th>\n",
       "    </tr>\n",
       "    <tr>\n",
       "      <th>Age_Group</th>\n",
       "      <th></th>\n",
       "      <th></th>\n",
       "      <th></th>\n",
       "      <th></th>\n",
       "      <th></th>\n",
       "      <th></th>\n",
       "      <th></th>\n",
       "      <th></th>\n",
       "      <th></th>\n",
       "      <th></th>\n",
       "      <th></th>\n",
       "      <th></th>\n",
       "      <th></th>\n",
       "      <th></th>\n",
       "      <th></th>\n",
       "      <th></th>\n",
       "      <th></th>\n",
       "      <th></th>\n",
       "    </tr>\n",
       "  </thead>\n",
       "  <tbody>\n",
       "    <tr>\n",
       "      <th>Adult</th>\n",
       "      <td>34.0%</td>\n",
       "      <td>8.0%</td>\n",
       "      <td>33.0%</td>\n",
       "      <td>0.0%</td>\n",
       "      <td>0.0%</td>\n",
       "      <td>0.0%</td>\n",
       "      <td>0.0%</td>\n",
       "      <td>0.0%</td>\n",
       "      <td>0.0%</td>\n",
       "      <td>11.0%</td>\n",
       "      <td>3.0%</td>\n",
       "      <td>11.0%</td>\n",
       "      <td>0.0%</td>\n",
       "      <td>0.0%</td>\n",
       "      <td>0.0%</td>\n",
       "      <td>0.0%</td>\n",
       "      <td>0.0%</td>\n",
       "      <td>0.0%</td>\n",
       "    </tr>\n",
       "    <tr>\n",
       "      <th>Senior</th>\n",
       "      <td>0.0%</td>\n",
       "      <td>0.0%</td>\n",
       "      <td>0.0%</td>\n",
       "      <td>52.0%</td>\n",
       "      <td>6.0%</td>\n",
       "      <td>16.0%</td>\n",
       "      <td>0.0%</td>\n",
       "      <td>0.0%</td>\n",
       "      <td>0.0%</td>\n",
       "      <td>0.0%</td>\n",
       "      <td>0.0%</td>\n",
       "      <td>0.0%</td>\n",
       "      <td>17.0%</td>\n",
       "      <td>2.0%</td>\n",
       "      <td>6.0%</td>\n",
       "      <td>0.0%</td>\n",
       "      <td>0.0%</td>\n",
       "      <td>0.0%</td>\n",
       "    </tr>\n",
       "    <tr>\n",
       "      <th>Young</th>\n",
       "      <td>0.0%</td>\n",
       "      <td>0.0%</td>\n",
       "      <td>0.0%</td>\n",
       "      <td>0.0%</td>\n",
       "      <td>0.0%</td>\n",
       "      <td>0.0%</td>\n",
       "      <td>2.0%</td>\n",
       "      <td>8.0%</td>\n",
       "      <td>40.0%</td>\n",
       "      <td>0.0%</td>\n",
       "      <td>0.0%</td>\n",
       "      <td>0.0%</td>\n",
       "      <td>0.0%</td>\n",
       "      <td>0.0%</td>\n",
       "      <td>0.0%</td>\n",
       "      <td>2.0%</td>\n",
       "      <td>8.0%</td>\n",
       "      <td>41.0%</td>\n",
       "    </tr>\n",
       "  </tbody>\n",
       "</table>\n",
       "</div>"
      ],
      "text/plain": [
       "Customer_Profile Married, Adult, High Income Married, Adult, Low Income  \\\n",
       "Age_Group                                                                 \n",
       "Adult                                  34.0%                       8.0%   \n",
       "Senior                                  0.0%                       0.0%   \n",
       "Young                                   0.0%                       0.0%   \n",
       "\n",
       "Customer_Profile Married, Adult, Mid Income Married, Senior, High Income  \\\n",
       "Age_Group                                                                  \n",
       "Adult                                 33.0%                         0.0%   \n",
       "Senior                                 0.0%                        52.0%   \n",
       "Young                                  0.0%                         0.0%   \n",
       "\n",
       "Customer_Profile Married, Senior, Low Income Married, Senior, Mid Income  \\\n",
       "Age_Group                                                                  \n",
       "Adult                                   0.0%                        0.0%   \n",
       "Senior                                  6.0%                       16.0%   \n",
       "Young                                   0.0%                        0.0%   \n",
       "\n",
       "Customer_Profile Married, Young, High Income Married, Young, Low Income  \\\n",
       "Age_Group                                                                 \n",
       "Adult                                   0.0%                       0.0%   \n",
       "Senior                                  0.0%                       0.0%   \n",
       "Young                                   2.0%                       8.0%   \n",
       "\n",
       "Customer_Profile Married, Young, Mid Income Non-married, Adult, High Income  \\\n",
       "Age_Group                                                                     \n",
       "Adult                                  0.0%                           11.0%   \n",
       "Senior                                 0.0%                            0.0%   \n",
       "Young                                 40.0%                            0.0%   \n",
       "\n",
       "Customer_Profile Non-married, Adult, Low Income  \\\n",
       "Age_Group                                         \n",
       "Adult                                      3.0%   \n",
       "Senior                                     0.0%   \n",
       "Young                                      0.0%   \n",
       "\n",
       "Customer_Profile Non-married, Adult, Mid Income  \\\n",
       "Age_Group                                         \n",
       "Adult                                     11.0%   \n",
       "Senior                                     0.0%   \n",
       "Young                                      0.0%   \n",
       "\n",
       "Customer_Profile Non-married, Senior, High Income  \\\n",
       "Age_Group                                           \n",
       "Adult                                        0.0%   \n",
       "Senior                                      17.0%   \n",
       "Young                                        0.0%   \n",
       "\n",
       "Customer_Profile Non-married, Senior, Low Income  \\\n",
       "Age_Group                                          \n",
       "Adult                                       0.0%   \n",
       "Senior                                      2.0%   \n",
       "Young                                       0.0%   \n",
       "\n",
       "Customer_Profile Non-married, Senior, Mid Income  \\\n",
       "Age_Group                                          \n",
       "Adult                                       0.0%   \n",
       "Senior                                      6.0%   \n",
       "Young                                       0.0%   \n",
       "\n",
       "Customer_Profile Non-married, Young, High Income  \\\n",
       "Age_Group                                          \n",
       "Adult                                       0.0%   \n",
       "Senior                                      0.0%   \n",
       "Young                                       2.0%   \n",
       "\n",
       "Customer_Profile Non-married, Young, Low Income Non-married, Young, Mid Income  \n",
       "Age_Group                                                                       \n",
       "Adult                                      0.0%                           0.0%  \n",
       "Senior                                     0.0%                           0.0%  \n",
       "Young                                      8.0%                          41.0%  "
      ]
     },
     "execution_count": 51,
     "metadata": {},
     "output_type": "execute_result"
    }
   ],
   "source": [
    "# Create crosstab for Age\n",
    "crosstab_age = pd.crosstab(instacart['Age_Group'], instacart['Customer_Profile'], dropna=False, normalize='index')\n",
    "\n",
    "# Multiply the normalized values by 100 to get percentages\n",
    "crosstab_age_percent = (crosstab_age * 100).round(0).astype(str) + '%'\n",
    "crosstab_age_percent"
   ]
  },
  {
   "cell_type": "code",
   "execution_count": 52,
   "id": "03ec8da5",
   "metadata": {},
   "outputs": [],
   "source": [
    "# Copy to clipboard before pasting in Excel\n",
    "crosstab_age_percent.to_clipboard()"
   ]
  },
  {
   "cell_type": "markdown",
   "id": "4212c0f9",
   "metadata": {},
   "source": [
    "## 3.5. Profiles and Income"
   ]
  },
  {
   "cell_type": "code",
   "execution_count": 53,
   "id": "b91cd23e",
   "metadata": {},
   "outputs": [
    {
     "data": {
      "text/html": [
       "<div>\n",
       "<style scoped>\n",
       "    .dataframe tbody tr th:only-of-type {\n",
       "        vertical-align: middle;\n",
       "    }\n",
       "\n",
       "    .dataframe tbody tr th {\n",
       "        vertical-align: top;\n",
       "    }\n",
       "\n",
       "    .dataframe thead th {\n",
       "        text-align: right;\n",
       "    }\n",
       "</style>\n",
       "<table border=\"1\" class=\"dataframe\">\n",
       "  <thead>\n",
       "    <tr style=\"text-align: right;\">\n",
       "      <th>Customer_Profile</th>\n",
       "      <th>Married, Adult, High Income</th>\n",
       "      <th>Married, Adult, Low Income</th>\n",
       "      <th>Married, Adult, Mid Income</th>\n",
       "      <th>Married, Senior, High Income</th>\n",
       "      <th>Married, Senior, Low Income</th>\n",
       "      <th>Married, Senior, Mid Income</th>\n",
       "      <th>Married, Young, High Income</th>\n",
       "      <th>Married, Young, Low Income</th>\n",
       "      <th>Married, Young, Mid Income</th>\n",
       "      <th>Non-married, Adult, High Income</th>\n",
       "      <th>Non-married, Adult, Low Income</th>\n",
       "      <th>Non-married, Adult, Mid Income</th>\n",
       "      <th>Non-married, Senior, High Income</th>\n",
       "      <th>Non-married, Senior, Low Income</th>\n",
       "      <th>Non-married, Senior, Mid Income</th>\n",
       "      <th>Non-married, Young, High Income</th>\n",
       "      <th>Non-married, Young, Low Income</th>\n",
       "      <th>Non-married, Young, Mid Income</th>\n",
       "    </tr>\n",
       "    <tr>\n",
       "      <th>Income_Group</th>\n",
       "      <th></th>\n",
       "      <th></th>\n",
       "      <th></th>\n",
       "      <th></th>\n",
       "      <th></th>\n",
       "      <th></th>\n",
       "      <th></th>\n",
       "      <th></th>\n",
       "      <th></th>\n",
       "      <th></th>\n",
       "      <th></th>\n",
       "      <th></th>\n",
       "      <th></th>\n",
       "      <th></th>\n",
       "      <th></th>\n",
       "      <th></th>\n",
       "      <th></th>\n",
       "      <th></th>\n",
       "    </tr>\n",
       "  </thead>\n",
       "  <tbody>\n",
       "    <tr>\n",
       "      <th>High Income</th>\n",
       "      <td>35.0%</td>\n",
       "      <td>0.0%</td>\n",
       "      <td>0.0%</td>\n",
       "      <td>39.0%</td>\n",
       "      <td>0.0%</td>\n",
       "      <td>0.0%</td>\n",
       "      <td>1.0%</td>\n",
       "      <td>0.0%</td>\n",
       "      <td>0.0%</td>\n",
       "      <td>12.0%</td>\n",
       "      <td>0.0%</td>\n",
       "      <td>0.0%</td>\n",
       "      <td>13.0%</td>\n",
       "      <td>0.0%</td>\n",
       "      <td>0.0%</td>\n",
       "      <td>1.0%</td>\n",
       "      <td>0.0%</td>\n",
       "      <td>0.0%</td>\n",
       "    </tr>\n",
       "    <tr>\n",
       "      <th>Low Income</th>\n",
       "      <td>0.0%</td>\n",
       "      <td>35.0%</td>\n",
       "      <td>0.0%</td>\n",
       "      <td>0.0%</td>\n",
       "      <td>20.0%</td>\n",
       "      <td>0.0%</td>\n",
       "      <td>0.0%</td>\n",
       "      <td>13.0%</td>\n",
       "      <td>0.0%</td>\n",
       "      <td>0.0%</td>\n",
       "      <td>12.0%</td>\n",
       "      <td>0.0%</td>\n",
       "      <td>0.0%</td>\n",
       "      <td>6.0%</td>\n",
       "      <td>0.0%</td>\n",
       "      <td>0.0%</td>\n",
       "      <td>14.0%</td>\n",
       "      <td>0.0%</td>\n",
       "    </tr>\n",
       "    <tr>\n",
       "      <th>Mid Income</th>\n",
       "      <td>0.0%</td>\n",
       "      <td>0.0%</td>\n",
       "      <td>36.0%</td>\n",
       "      <td>0.0%</td>\n",
       "      <td>0.0%</td>\n",
       "      <td>13.0%</td>\n",
       "      <td>0.0%</td>\n",
       "      <td>0.0%</td>\n",
       "      <td>18.0%</td>\n",
       "      <td>0.0%</td>\n",
       "      <td>0.0%</td>\n",
       "      <td>12.0%</td>\n",
       "      <td>0.0%</td>\n",
       "      <td>0.0%</td>\n",
       "      <td>4.0%</td>\n",
       "      <td>0.0%</td>\n",
       "      <td>0.0%</td>\n",
       "      <td>18.0%</td>\n",
       "    </tr>\n",
       "  </tbody>\n",
       "</table>\n",
       "</div>"
      ],
      "text/plain": [
       "Customer_Profile Married, Adult, High Income Married, Adult, Low Income  \\\n",
       "Income_Group                                                              \n",
       "High Income                            35.0%                       0.0%   \n",
       "Low Income                              0.0%                      35.0%   \n",
       "Mid Income                              0.0%                       0.0%   \n",
       "\n",
       "Customer_Profile Married, Adult, Mid Income Married, Senior, High Income  \\\n",
       "Income_Group                                                               \n",
       "High Income                            0.0%                        39.0%   \n",
       "Low Income                             0.0%                         0.0%   \n",
       "Mid Income                            36.0%                         0.0%   \n",
       "\n",
       "Customer_Profile Married, Senior, Low Income Married, Senior, Mid Income  \\\n",
       "Income_Group                                                               \n",
       "High Income                             0.0%                        0.0%   \n",
       "Low Income                             20.0%                        0.0%   \n",
       "Mid Income                              0.0%                       13.0%   \n",
       "\n",
       "Customer_Profile Married, Young, High Income Married, Young, Low Income  \\\n",
       "Income_Group                                                              \n",
       "High Income                             1.0%                       0.0%   \n",
       "Low Income                              0.0%                      13.0%   \n",
       "Mid Income                              0.0%                       0.0%   \n",
       "\n",
       "Customer_Profile Married, Young, Mid Income Non-married, Adult, High Income  \\\n",
       "Income_Group                                                                  \n",
       "High Income                            0.0%                           12.0%   \n",
       "Low Income                             0.0%                            0.0%   \n",
       "Mid Income                            18.0%                            0.0%   \n",
       "\n",
       "Customer_Profile Non-married, Adult, Low Income  \\\n",
       "Income_Group                                      \n",
       "High Income                                0.0%   \n",
       "Low Income                                12.0%   \n",
       "Mid Income                                 0.0%   \n",
       "\n",
       "Customer_Profile Non-married, Adult, Mid Income  \\\n",
       "Income_Group                                      \n",
       "High Income                                0.0%   \n",
       "Low Income                                 0.0%   \n",
       "Mid Income                                12.0%   \n",
       "\n",
       "Customer_Profile Non-married, Senior, High Income  \\\n",
       "Income_Group                                        \n",
       "High Income                                 13.0%   \n",
       "Low Income                                   0.0%   \n",
       "Mid Income                                   0.0%   \n",
       "\n",
       "Customer_Profile Non-married, Senior, Low Income  \\\n",
       "Income_Group                                       \n",
       "High Income                                 0.0%   \n",
       "Low Income                                  6.0%   \n",
       "Mid Income                                  0.0%   \n",
       "\n",
       "Customer_Profile Non-married, Senior, Mid Income  \\\n",
       "Income_Group                                       \n",
       "High Income                                 0.0%   \n",
       "Low Income                                  0.0%   \n",
       "Mid Income                                  4.0%   \n",
       "\n",
       "Customer_Profile Non-married, Young, High Income  \\\n",
       "Income_Group                                       \n",
       "High Income                                 1.0%   \n",
       "Low Income                                  0.0%   \n",
       "Mid Income                                  0.0%   \n",
       "\n",
       "Customer_Profile Non-married, Young, Low Income Non-married, Young, Mid Income  \n",
       "Income_Group                                                                    \n",
       "High Income                                0.0%                           0.0%  \n",
       "Low Income                                14.0%                           0.0%  \n",
       "Mid Income                                 0.0%                          18.0%  "
      ]
     },
     "execution_count": 53,
     "metadata": {},
     "output_type": "execute_result"
    }
   ],
   "source": [
    "# Create crosstab for Income\n",
    "crosstab_income = pd.crosstab(instacart['Income_Group'], instacart['Customer_Profile'], dropna=False, normalize='index')\n",
    "\n",
    "# Multiply the normalized values by 100 to get percentages\n",
    "crosstab_income_percent = (crosstab_income * 100).round(0).astype(str) + '%'\n",
    "crosstab_income_percent"
   ]
  },
  {
   "cell_type": "code",
   "execution_count": 54,
   "id": "acbe57f7",
   "metadata": {},
   "outputs": [],
   "source": [
    "# Copy to clipboard before pasting in Excel\n",
    "crosstab_income_percent.to_clipboard()"
   ]
  },
  {
   "cell_type": "markdown",
   "id": "6b708595",
   "metadata": {},
   "source": [
    "## 3.6. Profiles and Dependants"
   ]
  },
  {
   "cell_type": "code",
   "execution_count": 55,
   "id": "95924859",
   "metadata": {},
   "outputs": [
    {
     "data": {
      "text/html": [
       "<div>\n",
       "<style scoped>\n",
       "    .dataframe tbody tr th:only-of-type {\n",
       "        vertical-align: middle;\n",
       "    }\n",
       "\n",
       "    .dataframe tbody tr th {\n",
       "        vertical-align: top;\n",
       "    }\n",
       "\n",
       "    .dataframe thead th {\n",
       "        text-align: right;\n",
       "    }\n",
       "</style>\n",
       "<table border=\"1\" class=\"dataframe\">\n",
       "  <thead>\n",
       "    <tr style=\"text-align: right;\">\n",
       "      <th>Customer_Profile</th>\n",
       "      <th>Married, Adult, High Income</th>\n",
       "      <th>Married, Adult, Low Income</th>\n",
       "      <th>Married, Adult, Mid Income</th>\n",
       "      <th>Married, Senior, High Income</th>\n",
       "      <th>Married, Senior, Low Income</th>\n",
       "      <th>Married, Senior, Mid Income</th>\n",
       "      <th>Married, Young, High Income</th>\n",
       "      <th>Married, Young, Low Income</th>\n",
       "      <th>Married, Young, Mid Income</th>\n",
       "      <th>Non-married, Adult, High Income</th>\n",
       "      <th>Non-married, Adult, Low Income</th>\n",
       "      <th>Non-married, Adult, Mid Income</th>\n",
       "      <th>Non-married, Senior, High Income</th>\n",
       "      <th>Non-married, Senior, Low Income</th>\n",
       "      <th>Non-married, Senior, Mid Income</th>\n",
       "      <th>Non-married, Young, High Income</th>\n",
       "      <th>Non-married, Young, Low Income</th>\n",
       "      <th>Non-married, Young, Mid Income</th>\n",
       "    </tr>\n",
       "    <tr>\n",
       "      <th>Dependance</th>\n",
       "      <th></th>\n",
       "      <th></th>\n",
       "      <th></th>\n",
       "      <th></th>\n",
       "      <th></th>\n",
       "      <th></th>\n",
       "      <th></th>\n",
       "      <th></th>\n",
       "      <th></th>\n",
       "      <th></th>\n",
       "      <th></th>\n",
       "      <th></th>\n",
       "      <th></th>\n",
       "      <th></th>\n",
       "      <th></th>\n",
       "      <th></th>\n",
       "      <th></th>\n",
       "      <th></th>\n",
       "    </tr>\n",
       "  </thead>\n",
       "  <tbody>\n",
       "    <tr>\n",
       "      <th>Dependants</th>\n",
       "      <td>21.0%</td>\n",
       "      <td>5.0%</td>\n",
       "      <td>21.0%</td>\n",
       "      <td>24.0%</td>\n",
       "      <td>3.0%</td>\n",
       "      <td>7.0%</td>\n",
       "      <td>0.0%</td>\n",
       "      <td>2.0%</td>\n",
       "      <td>10.0%</td>\n",
       "      <td>0.0%</td>\n",
       "      <td>0.0%</td>\n",
       "      <td>0.0%</td>\n",
       "      <td>0.0%</td>\n",
       "      <td>0.0%</td>\n",
       "      <td>0.0%</td>\n",
       "      <td>0.0%</td>\n",
       "      <td>1.0%</td>\n",
       "      <td>5.0%</td>\n",
       "    </tr>\n",
       "    <tr>\n",
       "      <th>No-Dependants</th>\n",
       "      <td>0.0%</td>\n",
       "      <td>0.0%</td>\n",
       "      <td>0.0%</td>\n",
       "      <td>0.0%</td>\n",
       "      <td>0.0%</td>\n",
       "      <td>0.0%</td>\n",
       "      <td>0.0%</td>\n",
       "      <td>0.0%</td>\n",
       "      <td>0.0%</td>\n",
       "      <td>22.0%</td>\n",
       "      <td>5.0%</td>\n",
       "      <td>20.0%</td>\n",
       "      <td>24.0%</td>\n",
       "      <td>3.0%</td>\n",
       "      <td>8.0%</td>\n",
       "      <td>1.0%</td>\n",
       "      <td>3.0%</td>\n",
       "      <td>15.0%</td>\n",
       "    </tr>\n",
       "  </tbody>\n",
       "</table>\n",
       "</div>"
      ],
      "text/plain": [
       "Customer_Profile Married, Adult, High Income Married, Adult, Low Income  \\\n",
       "Dependance                                                                \n",
       "Dependants                             21.0%                       5.0%   \n",
       "No-Dependants                           0.0%                       0.0%   \n",
       "\n",
       "Customer_Profile Married, Adult, Mid Income Married, Senior, High Income  \\\n",
       "Dependance                                                                 \n",
       "Dependants                            21.0%                        24.0%   \n",
       "No-Dependants                          0.0%                         0.0%   \n",
       "\n",
       "Customer_Profile Married, Senior, Low Income Married, Senior, Mid Income  \\\n",
       "Dependance                                                                 \n",
       "Dependants                              3.0%                        7.0%   \n",
       "No-Dependants                           0.0%                        0.0%   \n",
       "\n",
       "Customer_Profile Married, Young, High Income Married, Young, Low Income  \\\n",
       "Dependance                                                                \n",
       "Dependants                              0.0%                       2.0%   \n",
       "No-Dependants                           0.0%                       0.0%   \n",
       "\n",
       "Customer_Profile Married, Young, Mid Income Non-married, Adult, High Income  \\\n",
       "Dependance                                                                    \n",
       "Dependants                            10.0%                            0.0%   \n",
       "No-Dependants                          0.0%                           22.0%   \n",
       "\n",
       "Customer_Profile Non-married, Adult, Low Income  \\\n",
       "Dependance                                        \n",
       "Dependants                                 0.0%   \n",
       "No-Dependants                              5.0%   \n",
       "\n",
       "Customer_Profile Non-married, Adult, Mid Income  \\\n",
       "Dependance                                        \n",
       "Dependants                                 0.0%   \n",
       "No-Dependants                             20.0%   \n",
       "\n",
       "Customer_Profile Non-married, Senior, High Income  \\\n",
       "Dependance                                          \n",
       "Dependants                                   0.0%   \n",
       "No-Dependants                               24.0%   \n",
       "\n",
       "Customer_Profile Non-married, Senior, Low Income  \\\n",
       "Dependance                                         \n",
       "Dependants                                  0.0%   \n",
       "No-Dependants                               3.0%   \n",
       "\n",
       "Customer_Profile Non-married, Senior, Mid Income  \\\n",
       "Dependance                                         \n",
       "Dependants                                  0.0%   \n",
       "No-Dependants                               8.0%   \n",
       "\n",
       "Customer_Profile Non-married, Young, High Income  \\\n",
       "Dependance                                         \n",
       "Dependants                                  0.0%   \n",
       "No-Dependants                               1.0%   \n",
       "\n",
       "Customer_Profile Non-married, Young, Low Income Non-married, Young, Mid Income  \n",
       "Dependance                                                                      \n",
       "Dependants                                 1.0%                           5.0%  \n",
       "No-Dependants                              3.0%                          15.0%  "
      ]
     },
     "execution_count": 55,
     "metadata": {},
     "output_type": "execute_result"
    }
   ],
   "source": [
    "# Create crosstab for Dependance\n",
    "crosstab_dependance = pd.crosstab(instacart['Dependance'], instacart['Customer_Profile'], dropna=False, normalize='index')\n",
    "\n",
    "# Multiply the normalized values by 100 to get percentages\n",
    "crosstab_dependance_percent = (crosstab_dependance * 100).round(0).astype(str) + '%'\n",
    "crosstab_dependance_percent"
   ]
  },
  {
   "cell_type": "code",
   "execution_count": 56,
   "id": "9a676692",
   "metadata": {},
   "outputs": [],
   "source": [
    "# Copy to clipboard before pasting in Excel\n",
    "crosstab_dependance_percent.to_clipboard()"
   ]
  },
  {
   "cell_type": "markdown",
   "id": "8079b2d3",
   "metadata": {},
   "source": [
    "# 4. Analysis of Customer Profiles: "
   ]
  },
  {
   "cell_type": "markdown",
   "id": "d64c5ab9",
   "metadata": {},
   "source": [
    "## 4.1. Usage frequency using frequency_flag"
   ]
  },
  {
   "cell_type": "markdown",
   "id": "f05c8ab9",
   "metadata": {},
   "source": [
    "instacart.groupby('Customer_Profile').agg({'frequency_flag': ['mean', 'min', 'max']})"
   ]
  },
  {
   "cell_type": "markdown",
   "id": "c61ab431",
   "metadata": {},
   "source": [
    "## 4.2. Expenditure using spender_type_flag"
   ]
  },
  {
   "cell_type": "markdown",
   "id": "ec078074",
   "metadata": {},
   "source": [
    "instacart.groupby('Customer_Profile').agg({'spender_type_flag': ['mean', 'min', 'max']})"
   ]
  },
  {
   "cell_type": "markdown",
   "id": "5ff8a9ee",
   "metadata": {},
   "source": [
    "## 4.3. Regions"
   ]
  },
  {
   "cell_type": "markdown",
   "id": "f041239f",
   "metadata": {},
   "source": [
    "instacart.groupby('Customer_Profile').agg({'region': ['mean', 'min', 'max']})"
   ]
  },
  {
   "cell_type": "markdown",
   "id": "9b53e284",
   "metadata": {},
   "source": [
    "## 4.4. Departments"
   ]
  },
  {
   "cell_type": "markdown",
   "id": "3507b9fc",
   "metadata": {},
   "source": [
    "instacart.groupby('Customer_Profile').agg({'department': ['mean', 'min', 'max']})"
   ]
  },
  {
   "cell_type": "markdown",
   "id": "71396e83",
   "metadata": {},
   "source": [
    "# 5. Exporting dataframe"
   ]
  },
  {
   "cell_type": "code",
   "execution_count": 57,
   "id": "19731742",
   "metadata": {},
   "outputs": [],
   "source": [
    "# Export instacart dataframe\n",
    "instacart.to_pickle(os.path.join(path, '02 Data','Prepared Data', 'instacart.pkl'))"
   ]
  },
  {
   "cell_type": "code",
   "execution_count": null,
   "id": "57224da8",
   "metadata": {},
   "outputs": [],
   "source": []
  }
 ],
 "metadata": {
  "kernelspec": {
   "display_name": "Python 3 (ipykernel)",
   "language": "python",
   "name": "python3"
  },
  "language_info": {
   "codemirror_mode": {
    "name": "ipython",
    "version": 3
   },
   "file_extension": ".py",
   "mimetype": "text/x-python",
   "name": "python",
   "nbconvert_exporter": "python",
   "pygments_lexer": "ipython3",
   "version": "3.11.5"
  }
 },
 "nbformat": 4,
 "nbformat_minor": 5
}
