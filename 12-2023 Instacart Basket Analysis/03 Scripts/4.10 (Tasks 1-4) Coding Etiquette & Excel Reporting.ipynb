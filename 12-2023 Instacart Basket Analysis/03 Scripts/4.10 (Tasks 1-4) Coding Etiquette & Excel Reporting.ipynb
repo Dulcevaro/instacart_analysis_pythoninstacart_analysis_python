{
 "cells": [
  {
   "cell_type": "markdown",
   "id": "dc356769",
   "metadata": {},
   "source": [
    "# Table on Content\n",
    "    1. Importing Libraries & data\n",
    "    2. Security Implications\n",
    "    3. Regional segmentation\n",
    "      3.1. Spending Habits across Regions\n",
    "    4. Customers with low revenue\n",
    "    5. Merging Departments Dataset\n",
    "    7. Drop unnecessary columns\n",
    "    6. Clean Data and Export Dataframes"
   ]
  },
  {
   "cell_type": "markdown",
   "id": "54069a7f",
   "metadata": {},
   "source": [
    "## 1. Importing Libraries & data"
   ]
  },
  {
   "cell_type": "code",
   "execution_count": 1,
   "id": "90aa0790",
   "metadata": {},
   "outputs": [],
   "source": [
    "# Import libraries\n",
    "import pandas as pd\n",
    "import numpy as np\n",
    "import os\n",
    "import matplotlib.pyplot as plt\n",
    "import seaborn as sns\n",
    "import scipy"
   ]
  },
  {
   "cell_type": "code",
   "execution_count": 2,
   "id": "f6606146",
   "metadata": {},
   "outputs": [],
   "source": [
    "# Create path\n",
    "path = r'/Users/Dulce/12-2023 Instacart Basket Analysis'"
   ]
  },
  {
   "cell_type": "code",
   "execution_count": 3,
   "id": "b2164f86",
   "metadata": {
    "scrolled": true
   },
   "outputs": [],
   "source": [
    "# Import ords_prods_custs\n",
    "ords_prods_custs = pd.read_pickle(os.path.join(path, '02 Data', 'Prepared Data', 'ords_prods_custs.pkl'))"
   ]
  },
  {
   "cell_type": "code",
   "execution_count": 4,
   "id": "aa551091",
   "metadata": {},
   "outputs": [],
   "source": [
    "# Delete unnecessary columns to reduce volume\n",
    "columns_to_drop = ['aisle_id', 'Gender', '_merge']\n",
    "ords_prods_custs = ords_prods_custs.drop(columns=columns_to_drop)"
   ]
  },
  {
   "cell_type": "code",
   "execution_count": 5,
   "id": "b0a8a9b9",
   "metadata": {},
   "outputs": [],
   "source": [
    "# Create a color palette with 10 distinct colors\n",
    "colors = ['#FFB6C1', '#FFA7B9', '#FF98B2', '#FF89AA', '#FF7AA2', '#FF6B9A', '#FF5C93', '#FF4D8B', '#FF3E83', '#FF2F7B']"
   ]
  },
  {
   "cell_type": "markdown",
   "id": "7470feb0",
   "metadata": {},
   "source": [
    "## 2. Security Implications"
   ]
  },
  {
   "cell_type": "markdown",
   "id": "60e84cce",
   "metadata": {},
   "source": [
    "There are some columns which could potentially be traced back to a particular person. We are working with PII in the columns First Name and Last Name so, I will drop them."
   ]
  },
  {
   "cell_type": "code",
   "execution_count": 6,
   "id": "6beaebfe",
   "metadata": {},
   "outputs": [],
   "source": [
    "# Drop columns First Name and Last Name\n",
    "ords_prods_custs = ords_prods_custs.drop(columns = ['First Name', 'Last Name'])"
   ]
  },
  {
   "cell_type": "markdown",
   "id": "94500e7f",
   "metadata": {},
   "source": [
    "## 3. Regional Segmentation"
   ]
  },
  {
   "cell_type": "code",
   "execution_count": 7,
   "id": "d31c7100",
   "metadata": {},
   "outputs": [],
   "source": [
    "# Create Lists for Regions\n",
    "Northeast = ['Maine', 'New Hampshire', 'Vermont', 'Massachusetts', 'Rhode Island', 'Connecticut', 'New York', 'Pennsylvania', 'New Jersey']\n",
    "Midwest = ['Wisconsin', 'Michigan', 'Illinois', 'Indiana', 'Ohio', 'North Dakota', 'South Dakota', 'Nebraska', 'Kansas', 'Minnesota', 'Iowa', 'Missouri']\n",
    "South = ['Delaware', 'Maryland', 'District of Columbia', 'Virginia', 'West Virginia', 'North Carolina', 'South Carolina', 'Georgia', 'Florida', 'Kentucky', 'Tennessee', 'Mississippi', 'Alabama', 'Oklahoma', 'Texas', 'Arkansas', 'Louisiana']\n",
    "West = ['Idaho', 'Montana', 'Wyoming', 'Nevada', 'Utah', 'Colorado', 'Arizona', 'New Mexico', 'Alaska', 'Washington', 'Oregon', 'California', 'Hawaii']"
   ]
  },
  {
   "cell_type": "code",
   "execution_count": 8,
   "id": "04e556cf",
   "metadata": {},
   "outputs": [],
   "source": [
    "# Derive new variable \"Region\" and placing lists\n",
    "ords_prods_custs.loc[ords_prods_custs['State'].isin(Northeast), 'region'] = 'Northeast'\n",
    "ords_prods_custs.loc[ords_prods_custs['State'].isin(Midwest), 'region'] = 'Midwest'\n",
    "ords_prods_custs.loc[ords_prods_custs['State'].isin(South), 'region'] = 'South'\n",
    "ords_prods_custs.loc[ords_prods_custs['State'].isin(West), 'region'] = 'West'"
   ]
  },
  {
   "cell_type": "markdown",
   "id": "b97b2a75",
   "metadata": {},
   "source": [
    "### 3.1. Spending Habits across Regions"
   ]
  },
  {
   "cell_type": "code",
   "execution_count": 9,
   "id": "cfd431ae",
   "metadata": {
    "scrolled": false
   },
   "outputs": [
    {
     "data": {
      "text/html": [
       "<div>\n",
       "<style scoped>\n",
       "    .dataframe tbody tr th:only-of-type {\n",
       "        vertical-align: middle;\n",
       "    }\n",
       "\n",
       "    .dataframe tbody tr th {\n",
       "        vertical-align: top;\n",
       "    }\n",
       "\n",
       "    .dataframe thead th {\n",
       "        text-align: right;\n",
       "    }\n",
       "</style>\n",
       "<table border=\"1\" class=\"dataframe\">\n",
       "  <thead>\n",
       "    <tr style=\"text-align: right;\">\n",
       "      <th>region</th>\n",
       "      <th>Midwest</th>\n",
       "      <th>Northeast</th>\n",
       "      <th>South</th>\n",
       "      <th>West</th>\n",
       "    </tr>\n",
       "    <tr>\n",
       "      <th>spender_type_flag</th>\n",
       "      <th></th>\n",
       "      <th></th>\n",
       "      <th></th>\n",
       "      <th></th>\n",
       "    </tr>\n",
       "  </thead>\n",
       "  <tbody>\n",
       "    <tr>\n",
       "      <th>High spender</th>\n",
       "      <td>25.0%</td>\n",
       "      <td>17.0%</td>\n",
       "      <td>33.0%</td>\n",
       "      <td>25.0%</td>\n",
       "    </tr>\n",
       "    <tr>\n",
       "      <th>Low spender</th>\n",
       "      <td>23.0%</td>\n",
       "      <td>18.0%</td>\n",
       "      <td>33.0%</td>\n",
       "      <td>26.0%</td>\n",
       "    </tr>\n",
       "  </tbody>\n",
       "</table>\n",
       "</div>"
      ],
      "text/plain": [
       "region            Midwest Northeast  South   West\n",
       "spender_type_flag                                \n",
       "High spender        25.0%     17.0%  33.0%  25.0%\n",
       "Low spender         23.0%     18.0%  33.0%  26.0%"
      ]
     },
     "execution_count": 9,
     "metadata": {},
     "output_type": "execute_result"
    }
   ],
   "source": [
    "# Create crosstab\n",
    "crosstab_normalized = pd.crosstab(ords_prods_custs['spender_type_flag'], ords_prods_custs['region'], dropna=False, normalize='index')\n",
    "\n",
    "# Multiply the normalized values by 100 to get percentages\n",
    "crosstab_normalized_percent = (crosstab_normalized * 100).round(0).astype(str) + '%'\n",
    "crosstab_normalized_percent"
   ]
  },
  {
   "cell_type": "markdown",
   "id": "5adfb2f5",
   "metadata": {},
   "source": [
    "## 4. Customers with low revenue"
   ]
  },
  {
   "cell_type": "code",
   "execution_count": 10,
   "id": "342471c8",
   "metadata": {},
   "outputs": [],
   "source": [
    "# Flag Customers with Low number of orders <5\n",
    "ords_prods_custs.loc[ords_prods_custs['quantity'] < 5, 'activity_flag'] = 'Low Activity'"
   ]
  },
  {
   "cell_type": "code",
   "execution_count": 11,
   "id": "ede330a4",
   "metadata": {},
   "outputs": [],
   "source": [
    "# Flag Customers with non-low number of orders >=5\n",
    "ords_prods_custs.loc[ords_prods_custs['quantity'] >= 5, 'activity_flag'] = 'Non-Low Activity'"
   ]
  },
  {
   "cell_type": "code",
   "execution_count": 12,
   "id": "6ad171e2",
   "metadata": {},
   "outputs": [
    {
     "data": {
      "text/plain": [
       "activity_flag\n",
       "Non-Low Activity    24414877\n",
       "Low Activity         7989982\n",
       "Name: count, dtype: int64"
      ]
     },
     "execution_count": 12,
     "metadata": {},
     "output_type": "execute_result"
    }
   ],
   "source": [
    "# Check results for 'activity_flag'\n",
    "ords_prods_custs['activity_flag'].value_counts(dropna = False)"
   ]
  },
  {
   "cell_type": "code",
   "execution_count": 13,
   "id": "5a1599b7",
   "metadata": {},
   "outputs": [
    {
     "data": {
      "text/plain": [
       "(7989982, 30)"
      ]
     },
     "execution_count": 13,
     "metadata": {},
     "output_type": "execute_result"
    }
   ],
   "source": [
    "# Create a subset for 'Low Activity' users\n",
    "df_low_activity = ords_prods_custs[ords_prods_custs['activity_flag'] == 'Low Activity']\n",
    "df_low_activity.shape"
   ]
  },
  {
   "cell_type": "code",
   "execution_count": 14,
   "id": "906f0223",
   "metadata": {},
   "outputs": [
    {
     "data": {
      "text/plain": [
       "(24414877, 30)"
      ]
     },
     "execution_count": 14,
     "metadata": {},
     "output_type": "execute_result"
    }
   ],
   "source": [
    "# Create a subset for 'Non-Low Activity' users for the CFO\n",
    "df_Nolow_activity = ords_prods_custs[ords_prods_custs['activity_flag'] == 'Non-Low Activity']\n",
    "df_Nolow_activity.shape"
   ]
  },
  {
   "cell_type": "markdown",
   "id": "120a6dd0",
   "metadata": {},
   "source": [
    "# 5.Merging Departments Dataset"
   ]
  },
  {
   "cell_type": "code",
   "execution_count": 15,
   "id": "382b5e98",
   "metadata": {},
   "outputs": [],
   "source": [
    "# Import departments\n",
    "depts = pd.read_csv(os.path.join(path, '02 Data', 'Prepared Data', 'departments_wrangled.csv'))"
   ]
  },
  {
   "cell_type": "code",
   "execution_count": 16,
   "id": "ecda05a5",
   "metadata": {},
   "outputs": [
    {
     "data": {
      "text/html": [
       "<div>\n",
       "<style scoped>\n",
       "    .dataframe tbody tr th:only-of-type {\n",
       "        vertical-align: middle;\n",
       "    }\n",
       "\n",
       "    .dataframe tbody tr th {\n",
       "        vertical-align: top;\n",
       "    }\n",
       "\n",
       "    .dataframe thead th {\n",
       "        text-align: right;\n",
       "    }\n",
       "</style>\n",
       "<table border=\"1\" class=\"dataframe\">\n",
       "  <thead>\n",
       "    <tr style=\"text-align: right;\">\n",
       "      <th></th>\n",
       "      <th>Unnamed: 0</th>\n",
       "      <th>department</th>\n",
       "    </tr>\n",
       "  </thead>\n",
       "  <tbody>\n",
       "    <tr>\n",
       "      <th>0</th>\n",
       "      <td>1</td>\n",
       "      <td>frozen</td>\n",
       "    </tr>\n",
       "    <tr>\n",
       "      <th>1</th>\n",
       "      <td>2</td>\n",
       "      <td>other</td>\n",
       "    </tr>\n",
       "    <tr>\n",
       "      <th>2</th>\n",
       "      <td>3</td>\n",
       "      <td>bakery</td>\n",
       "    </tr>\n",
       "    <tr>\n",
       "      <th>3</th>\n",
       "      <td>4</td>\n",
       "      <td>produce</td>\n",
       "    </tr>\n",
       "    <tr>\n",
       "      <th>4</th>\n",
       "      <td>5</td>\n",
       "      <td>alcohol</td>\n",
       "    </tr>\n",
       "  </tbody>\n",
       "</table>\n",
       "</div>"
      ],
      "text/plain": [
       "   Unnamed: 0 department\n",
       "0           1     frozen\n",
       "1           2      other\n",
       "2           3     bakery\n",
       "3           4    produce\n",
       "4           5    alcohol"
      ]
     },
     "execution_count": 16,
     "metadata": {},
     "output_type": "execute_result"
    }
   ],
   "source": [
    "# Check columns names and rows\n",
    "depts.head()"
   ]
  },
  {
   "cell_type": "code",
   "execution_count": 17,
   "id": "d8e2a343",
   "metadata": {},
   "outputs": [
    {
     "data": {
      "text/plain": [
       "Unnamed: 0     int64\n",
       "department    object\n",
       "dtype: object"
      ]
     },
     "execution_count": 17,
     "metadata": {},
     "output_type": "execute_result"
    }
   ],
   "source": [
    "# Check Data Type for depts \n",
    "depts.dtypes"
   ]
  },
  {
   "cell_type": "code",
   "execution_count": 18,
   "id": "c42878a0",
   "metadata": {},
   "outputs": [
    {
     "data": {
      "text/html": [
       "<div>\n",
       "<style scoped>\n",
       "    .dataframe tbody tr th:only-of-type {\n",
       "        vertical-align: middle;\n",
       "    }\n",
       "\n",
       "    .dataframe tbody tr th {\n",
       "        vertical-align: top;\n",
       "    }\n",
       "\n",
       "    .dataframe thead th {\n",
       "        text-align: right;\n",
       "    }\n",
       "</style>\n",
       "<table border=\"1\" class=\"dataframe\">\n",
       "  <thead>\n",
       "    <tr style=\"text-align: right;\">\n",
       "      <th></th>\n",
       "      <th>department_id</th>\n",
       "      <th>department</th>\n",
       "    </tr>\n",
       "  </thead>\n",
       "  <tbody>\n",
       "    <tr>\n",
       "      <th>0</th>\n",
       "      <td>1</td>\n",
       "      <td>frozen</td>\n",
       "    </tr>\n",
       "    <tr>\n",
       "      <th>1</th>\n",
       "      <td>2</td>\n",
       "      <td>other</td>\n",
       "    </tr>\n",
       "    <tr>\n",
       "      <th>2</th>\n",
       "      <td>3</td>\n",
       "      <td>bakery</td>\n",
       "    </tr>\n",
       "    <tr>\n",
       "      <th>3</th>\n",
       "      <td>4</td>\n",
       "      <td>produce</td>\n",
       "    </tr>\n",
       "    <tr>\n",
       "      <th>4</th>\n",
       "      <td>5</td>\n",
       "      <td>alcohol</td>\n",
       "    </tr>\n",
       "  </tbody>\n",
       "</table>\n",
       "</div>"
      ],
      "text/plain": [
       "   department_id department\n",
       "0              1     frozen\n",
       "1              2      other\n",
       "2              3     bakery\n",
       "3              4    produce\n",
       "4              5    alcohol"
      ]
     },
     "execution_count": 18,
     "metadata": {},
     "output_type": "execute_result"
    }
   ],
   "source": [
    "# Change column name Unnamed: 0 and check\n",
    "depts.rename(columns = {'Unnamed: 0' : 'department_id'}, inplace = True)\n",
    "depts.head()"
   ]
  },
  {
   "cell_type": "code",
   "execution_count": 19,
   "id": "9991558b",
   "metadata": {},
   "outputs": [
    {
     "data": {
      "text/plain": [
       "dtype('O')"
      ]
     },
     "execution_count": 19,
     "metadata": {},
     "output_type": "execute_result"
    }
   ],
   "source": [
    "# Convert department_id into string\n",
    "depts['department_id'] = depts['department_id'].astype(str)\n",
    "depts['department_id'].dtype"
   ]
  },
  {
   "cell_type": "code",
   "execution_count": 20,
   "id": "ad2dbcea",
   "metadata": {},
   "outputs": [
    {
     "data": {
      "text/plain": [
       "dtype('O')"
      ]
     },
     "execution_count": 20,
     "metadata": {},
     "output_type": "execute_result"
    }
   ],
   "source": [
    "# Align data format for department_id in final_df (delete \".0\")\n",
    "ords_prods_custs['department_id'] = ords_prods_custs['department_id'].astype(str).str.replace('.0', '')\n",
    "ords_prods_custs['department_id'].dtype"
   ]
  },
  {
   "cell_type": "markdown",
   "id": "a5b38f07",
   "metadata": {},
   "source": [
    "# Delete old '_merge' column\n",
    "ords_prods_custs = ords_prods_custs.drop(columns = ['_merge'])"
   ]
  },
  {
   "cell_type": "code",
   "execution_count": 21,
   "id": "1fd93635",
   "metadata": {},
   "outputs": [],
   "source": [
    "# Merge Department.csv with final_df.pkl: Key = department_id\n",
    "final_df = ords_prods_custs.merge(depts, on = 'department_id', indicator = True)"
   ]
  },
  {
   "cell_type": "markdown",
   "id": "bcf3ed81",
   "metadata": {},
   "source": [
    "# 6. Clean Data and Export Dataframes"
   ]
  },
  {
   "cell_type": "markdown",
   "id": "448aaedd",
   "metadata": {},
   "source": [
    "# Export Non-Low Activity dataframe\n",
    "df_Nolow_activity.to_pickle(os.path.join(path, '02 Data','Prepared Data', 'Normal Activity.pkl'))"
   ]
  },
  {
   "cell_type": "code",
   "execution_count": 22,
   "id": "fc2676b6",
   "metadata": {},
   "outputs": [],
   "source": [
    "# Export final dataframe\n",
    "final_df.to_pickle(os.path.join(path, '02 Data','Prepared Data', 'Final_DF.pkl'))"
   ]
  },
  {
   "cell_type": "code",
   "execution_count": null,
   "id": "b3cd8139",
   "metadata": {},
   "outputs": [],
   "source": []
  }
 ],
 "metadata": {
  "kernelspec": {
   "display_name": "Python 3 (ipykernel)",
   "language": "python",
   "name": "python3"
  },
  "language_info": {
   "codemirror_mode": {
    "name": "ipython",
    "version": 3
   },
   "file_extension": ".py",
   "mimetype": "text/x-python",
   "name": "python",
   "nbconvert_exporter": "python",
   "pygments_lexer": "ipython3",
   "version": "3.11.5"
  }
 },
 "nbformat": 4,
 "nbformat_minor": 5
}
