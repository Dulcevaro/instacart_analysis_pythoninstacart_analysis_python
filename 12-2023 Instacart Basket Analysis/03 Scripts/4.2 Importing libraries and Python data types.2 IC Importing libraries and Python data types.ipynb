{
 "cells": [
  {
   "cell_type": "markdown",
   "id": "cfde4c2f",
   "metadata": {},
   "source": [
    "# 01. Importing libraries"
   ]
  },
  {
   "cell_type": "code",
   "execution_count": 8,
   "id": "d721442a",
   "metadata": {},
   "outputs": [],
   "source": [
    "# Import libraries\n",
    "import pandas as pd\n",
    "import numpy as np\n",
    "import os"
   ]
  },
  {
   "cell_type": "markdown",
   "id": "2f8ff9cd",
   "metadata": {},
   "source": [
    "# 02. Data types"
   ]
  },
  {
   "cell_type": "code",
   "execution_count": 9,
   "id": "31d1cdcc",
   "metadata": {},
   "outputs": [],
   "source": [
    "x = 2"
   ]
  },
  {
   "cell_type": "code",
   "execution_count": 10,
   "id": "4c663316",
   "metadata": {},
   "outputs": [],
   "source": [
    "y = 90"
   ]
  },
  {
   "cell_type": "code",
   "execution_count": 11,
   "id": "7c871512",
   "metadata": {},
   "outputs": [
    {
     "data": {
      "text/plain": [
       "100"
      ]
     },
     "execution_count": 11,
     "metadata": {},
     "output_type": "execute_result"
    }
   ],
   "source": [
    "x+y+8"
   ]
  },
  {
   "cell_type": "code",
   "execution_count": 12,
   "id": "56ff6793",
   "metadata": {},
   "outputs": [
    {
     "data": {
      "text/plain": [
       "100"
      ]
     },
     "execution_count": 12,
     "metadata": {},
     "output_type": "execute_result"
    }
   ],
   "source": [
    "100-y+45*x"
   ]
  },
  {
   "cell_type": "code",
   "execution_count": 14,
   "id": "9fb5d200",
   "metadata": {},
   "outputs": [
    {
     "data": {
      "text/plain": [
       "100"
      ]
     },
     "execution_count": 14,
     "metadata": {},
     "output_type": "execute_result"
    }
   ],
   "source": [
    "y+5*x"
   ]
  },
  {
   "cell_type": "code",
   "execution_count": 18,
   "id": "73b9108e",
   "metadata": {},
   "outputs": [],
   "source": [
    "a=2.5\n",
    "b=50.5"
   ]
  },
  {
   "cell_type": "code",
   "execution_count": 19,
   "id": "0a3c7f11",
   "metadata": {},
   "outputs": [
    {
     "data": {
      "text/plain": [
       "20.2"
      ]
     },
     "execution_count": 19,
     "metadata": {},
     "output_type": "execute_result"
    }
   ],
   "source": [
    "b/a"
   ]
  },
  {
   "cell_type": "code",
   "execution_count": 20,
   "id": "087b7cd2",
   "metadata": {},
   "outputs": [],
   "source": [
    "i=\"Good\"\n",
    "z= \"night\""
   ]
  },
  {
   "cell_type": "code",
   "execution_count": 21,
   "id": "4b588322",
   "metadata": {},
   "outputs": [
    {
     "data": {
      "text/plain": [
       "'Goodnight'"
      ]
     },
     "execution_count": 21,
     "metadata": {},
     "output_type": "execute_result"
    }
   ],
   "source": [
    "i+z"
   ]
  },
  {
   "cell_type": "code",
   "execution_count": 22,
   "id": "c10616c0",
   "metadata": {},
   "outputs": [],
   "source": [
    "m=\"Good \"\n",
    "n= \"morning!\""
   ]
  },
  {
   "cell_type": "code",
   "execution_count": 23,
   "id": "f16bb180",
   "metadata": {},
   "outputs": [
    {
     "data": {
      "text/plain": [
       "'Good morning!'"
      ]
     },
     "execution_count": 23,
     "metadata": {},
     "output_type": "execute_result"
    }
   ],
   "source": [
    "m+n"
   ]
  },
  {
   "cell_type": "code",
   "execution_count": null,
   "id": "efca01a7",
   "metadata": {},
   "outputs": [],
   "source": []
  }
 ],
 "metadata": {
  "kernelspec": {
   "display_name": "Python 3 (ipykernel)",
   "language": "python",
   "name": "python3"
  },
  "language_info": {
   "codemirror_mode": {
    "name": "ipython",
    "version": 3
   },
   "file_extension": ".py",
   "mimetype": "text/x-python",
   "name": "python",
   "nbconvert_exporter": "python",
   "pygments_lexer": "ipython3",
   "version": "3.11.5"
  }
 },
 "nbformat": 4,
 "nbformat_minor": 5
}
